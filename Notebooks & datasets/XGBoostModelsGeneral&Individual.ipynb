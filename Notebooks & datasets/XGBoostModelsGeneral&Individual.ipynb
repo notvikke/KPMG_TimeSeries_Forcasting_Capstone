{
 "cells": [
  {
   "cell_type": "code",
   "execution_count": 64,
   "metadata": {},
   "outputs": [],
   "source": [
    "import pandas as pd\n",
    "import matplotlib.pyplot as plt\n",
    "from sklearn.metrics import mean_squared_error\n",
    "import math\n",
    "import pandas as pd\n",
    "import matplotlib.pyplot as plt\n",
    "import plotly.express as px\n",
    "import pandas as pd\n",
    "import lightgbm as lgb\n",
    "from sklearn.model_selection import LeaveOneOut\n",
    "from sklearn.preprocessing import OneHotEncoder, StandardScaler\n",
    "from sklearn.compose import ColumnTransformer\n",
    "from sklearn.metrics import mean_absolute_percentage_error\n",
    "import holidays\n",
    "from sklearn.neighbors import KNeighborsRegressor\n",
    "from sklearn.svm import SVR\n",
    "from sklearn.linear_model import LinearRegression\n",
    "from sklearn.ensemble import RandomForestRegressor\n",
    "from sklearn.ensemble import GradientBoostingRegressor\n",
    "import xgboost as xgb\n",
    "\n",
    "def mean_absolute_percentage_error(y_true, y_pred):\n",
    "    return (abs(y_true - y_pred) / y_true).mean() * 100\n",
    "\n",
    "\n",
    "df = pd.read_csv(\"monthly_data.csv\")"
   ]
  },
  {
   "cell_type": "code",
   "execution_count": 65,
   "metadata": {},
   "outputs": [],
   "source": [
    "import pandas as pd\n",
    "\n",
    "# Assuming your dataframe is named 'df'\n",
    "mapping = {\n",
    "    120004096: \"Product1\",\n",
    "    120009814: \"Product2\",\n",
    "    120009816: \"Product3\",\n",
    "    120010342: \"Product4\",\n",
    "    120010566: \"Product5\",\n",
    "    120010970: \"Product6\",\n",
    "    120011556: \"Product7\",\n",
    "    120011782: \"Product8\",\n",
    "    120012154: \"Product9\",\n",
    "    120012606: \"Product10\",\n",
    "    120014486: \"Product11\",\n",
    "    120014488: \"Product12\",\n",
    "    120015842: \"Product13\",\n",
    "    120015996: \"Product14\"\n",
    "}\n",
    "\n",
    "df['ID_material'] = df['ID_material'].map(mapping)"
   ]
  },
  {
   "cell_type": "code",
   "execution_count": 66,
   "metadata": {},
   "outputs": [],
   "source": [
    "# df = df[df[\"ID_material\"] == \"Product1\"]\n",
    "# df = df.drop(columns=\"ID_material\")\n",
    "# df.head(3)"
   ]
  },
  {
   "cell_type": "code",
   "execution_count": 67,
   "metadata": {},
   "outputs": [],
   "source": [
    "categorical_cols = ['MonthName',\"Season\"]\n",
    "numerical_cols = [\"Number_Of_Holidays_In_That_Month_SPAIN\",\"GDP_Past_Quarter_Change\",\"PreviousUnemploymentQuarterAmmount\",\"Months_Since_Material_Release\",\"Absolute_Previous GDP Quarter Change\"]\n",
    "# Filter the data for the last month of 2022 (August)\n",
    "test_df = df[(df['Year'] == 2022) & (df['MonthName'].isin(['August', 'September']))]\n",
    "\n",
    "# Separate the features and target variable for the test set\n",
    "X_test = test_df.drop(['Units'], axis=1)\n",
    "y_test = test_df['Units']\n",
    "\n",
    "# Filter the data for training (excluding the last month of 2022)\n",
    "train_df = df[~((df['Year'] == 2022) & (df['MonthName'].isin(['August', 'September'])))]\n",
    "\n",
    "# Separate the features and target variable for training\n",
    "X_train = train_df.drop(['Units'], axis=1)\n",
    "y_train = train_df['Units']\n",
    "\n",
    "preprocessor = ColumnTransformer(\n",
    "    transformers=[\n",
    "        ('cat', OneHotEncoder(), categorical_cols),\n",
    "        ('num', StandardScaler(), numerical_cols)\n",
    "    ])\n",
    "\n",
    "X_train_processed = preprocessor.fit_transform(X_train)\n",
    "X_test_processed = preprocessor.transform(X_test)"
   ]
  },
  {
   "cell_type": "code",
   "execution_count": 68,
   "metadata": {},
   "outputs": [],
   "source": [
    "y_test = y_test+1"
   ]
  },
  {
   "cell_type": "code",
   "execution_count": 69,
   "metadata": {},
   "outputs": [
    {
     "name": "stderr",
     "output_type": "stream",
     "text": [
      "\u001b[32m[I 2023-06-21 16:17:41,597]\u001b[0m A new study created in memory with name: no-name-1a622067-751b-455c-ab56-890b3a1a31b6\u001b[0m\n",
      "\u001b[32m[I 2023-06-21 16:17:41,966]\u001b[0m Trial 0 finished with value: 4720.053292881821 and parameters: {'n_estimators': 200, 'max_depth': 14, 'learning_rate': 0.031252832875078566, 'subsample': 0.8367176533470411, 'colsample_bytree': 0.8157448136536144, 'gamma': 4.150467819437593, 'min_child_weight': 12}. Best is trial 0 with value: 4720.053292881821.\u001b[0m\n",
      "\u001b[32m[I 2023-06-21 16:17:42,834]\u001b[0m Trial 1 finished with value: 4450.1539025392985 and parameters: {'n_estimators': 750, 'max_depth': 20, 'learning_rate': 0.008445431832644528, 'subsample': 0.8558273971797592, 'colsample_bytree': 0.5003747543846614, 'gamma': 14.259849201565483, 'min_child_weight': 16}. Best is trial 1 with value: 4450.1539025392985.\u001b[0m\n",
      "\u001b[32m[I 2023-06-21 16:17:42,981]\u001b[0m Trial 2 finished with value: 4286.6379242640505 and parameters: {'n_estimators': 150, 'max_depth': 6, 'learning_rate': 0.009175920782863028, 'subsample': 0.8417019428288663, 'colsample_bytree': 0.5167091832915347, 'gamma': 12.314537958478589, 'min_child_weight': 10}. Best is trial 2 with value: 4286.6379242640505.\u001b[0m\n",
      "\u001b[32m[I 2023-06-21 16:17:43,142]\u001b[0m Trial 3 finished with value: 4297.276477855091 and parameters: {'n_estimators': 150, 'max_depth': 13, 'learning_rate': 0.04032643624639344, 'subsample': 0.5360730635540443, 'colsample_bytree': 0.9934090721915998, 'gamma': 8.419042883141096, 'min_child_weight': 19}. Best is trial 2 with value: 4286.6379242640505.\u001b[0m\n",
      "\u001b[32m[I 2023-06-21 16:17:43,632]\u001b[0m Trial 4 finished with value: 5549.289741949894 and parameters: {'n_estimators': 400, 'max_depth': 8, 'learning_rate': 0.04514060175794327, 'subsample': 0.7218812465977061, 'colsample_bytree': 0.9434009694173404, 'gamma': 15.699223518584581, 'min_child_weight': 4}. Best is trial 2 with value: 4286.6379242640505.\u001b[0m\n",
      "\u001b[32m[I 2023-06-21 16:17:44,989]\u001b[0m Trial 5 finished with value: 5556.147827061972 and parameters: {'n_estimators': 950, 'max_depth': 17, 'learning_rate': 0.03325379903011491, 'subsample': 0.589360514270686, 'colsample_bytree': 0.7133526678614657, 'gamma': 10.003306809458692, 'min_child_weight': 3}. Best is trial 2 with value: 4286.6379242640505.\u001b[0m\n",
      "\u001b[32m[I 2023-06-21 16:17:45,342]\u001b[0m Trial 6 finished with value: 5084.065565519228 and parameters: {'n_estimators': 450, 'max_depth': 7, 'learning_rate': 0.04257337682400747, 'subsample': 0.9880254623595055, 'colsample_bytree': 0.5595560316208017, 'gamma': 0.7288314952677566, 'min_child_weight': 9}. Best is trial 2 with value: 4286.6379242640505.\u001b[0m\n",
      "\u001b[32m[I 2023-06-21 16:17:45,704]\u001b[0m Trial 7 finished with value: 5577.758949286069 and parameters: {'n_estimators': 650, 'max_depth': 3, 'learning_rate': 0.07945373877696098, 'subsample': 0.6184017256147849, 'colsample_bytree': 0.950325431463401, 'gamma': 0.9975637165616291, 'min_child_weight': 7}. Best is trial 2 with value: 4286.6379242640505.\u001b[0m\n",
      "\u001b[32m[I 2023-06-21 16:17:46,089]\u001b[0m Trial 8 finished with value: 5615.519144673259 and parameters: {'n_estimators': 300, 'max_depth': 9, 'learning_rate': 0.09715537675048286, 'subsample': 0.8905184888754213, 'colsample_bytree': 0.7719231277702449, 'gamma': 11.942569024456713, 'min_child_weight': 9}. Best is trial 2 with value: 4286.6379242640505.\u001b[0m\n",
      "\u001b[32m[I 2023-06-21 16:17:46,847]\u001b[0m Trial 9 finished with value: 5280.816639934152 and parameters: {'n_estimators': 600, 'max_depth': 15, 'learning_rate': 0.041886389976067695, 'subsample': 0.7318585589669532, 'colsample_bytree': 0.793007536395949, 'gamma': 19.383877653601974, 'min_child_weight': 7}. Best is trial 2 with value: 4286.6379242640505.\u001b[0m\n",
      "\u001b[32m[I 2023-06-21 16:17:46,938]\u001b[0m Trial 10 finished with value: 6007.325403054013 and parameters: {'n_estimators': 50, 'max_depth': 2, 'learning_rate': 0.0011729725417736862, 'subsample': 0.985457399326783, 'colsample_bytree': 0.6242016712982832, 'gamma': 6.88389284370784, 'min_child_weight': 13}. Best is trial 2 with value: 4286.6379242640505.\u001b[0m\n",
      "\u001b[32m[I 2023-06-21 16:17:47,079]\u001b[0m Trial 11 finished with value: 4127.264911168589 and parameters: {'n_estimators': 100, 'max_depth': 12, 'learning_rate': 0.015026628208644859, 'subsample': 0.5198347609709609, 'colsample_bytree': 0.9932018319790582, 'gamma': 7.742220192479149, 'min_child_weight': 20}. Best is trial 11 with value: 4127.264911168589.\u001b[0m\n",
      "\u001b[32m[I 2023-06-21 16:17:47,175]\u001b[0m Trial 12 finished with value: 4397.121760805345 and parameters: {'n_estimators': 50, 'max_depth': 5, 'learning_rate': 0.016498752073176512, 'subsample': 0.6582858073763785, 'colsample_bytree': 0.8807606545554673, 'gamma': 11.245866668140172, 'min_child_weight': 16}. Best is trial 11 with value: 4127.264911168589.\u001b[0m\n",
      "\u001b[32m[I 2023-06-21 16:17:47,417]\u001b[0m Trial 13 finished with value: 4208.850758641191 and parameters: {'n_estimators': 250, 'max_depth': 11, 'learning_rate': 0.018559029918257558, 'subsample': 0.5273099791528804, 'colsample_bytree': 0.6747065302550015, 'gamma': 6.021298043506669, 'min_child_weight': 19}. Best is trial 11 with value: 4127.264911168589.\u001b[0m\n",
      "\u001b[32m[I 2023-06-21 16:17:47,690]\u001b[0m Trial 14 finished with value: 4193.698136698184 and parameters: {'n_estimators': 300, 'max_depth': 11, 'learning_rate': 0.023331485286908163, 'subsample': 0.5159129003386987, 'colsample_bytree': 0.7180240179509244, 'gamma': 6.087874957880153, 'min_child_weight': 20}. Best is trial 11 with value: 4127.264911168589.\u001b[0m\n",
      "\u001b[32m[I 2023-06-21 16:17:48,019]\u001b[0m Trial 15 finished with value: 4308.8989302159525 and parameters: {'n_estimators': 350, 'max_depth': 10, 'learning_rate': 0.023326595650974703, 'subsample': 0.5002620299612807, 'colsample_bytree': 0.8540495128427108, 'gamma': 5.422051917648381, 'min_child_weight': 16}. Best is trial 11 with value: 4127.264911168589.\u001b[0m\n",
      "\u001b[32m[I 2023-06-21 16:17:48,448]\u001b[0m Trial 16 finished with value: 4626.580294288016 and parameters: {'n_estimators': 500, 'max_depth': 13, 'learning_rate': 0.05589203385634907, 'subsample': 0.5695006100407224, 'colsample_bytree': 0.7422703820892361, 'gamma': 9.025079705075619, 'min_child_weight': 20}. Best is trial 11 with value: 4127.264911168589.\u001b[0m\n",
      "\u001b[32m[I 2023-06-21 16:17:48,766]\u001b[0m Trial 17 finished with value: 4275.913174229352 and parameters: {'n_estimators': 300, 'max_depth': 16, 'learning_rate': 0.02571828838028539, 'subsample': 0.6354112693431322, 'colsample_bytree': 0.8578635724147301, 'gamma': 3.2713844042695257, 'min_child_weight': 17}. Best is trial 11 with value: 4127.264911168589.\u001b[0m\n",
      "\u001b[32m[I 2023-06-21 16:17:48,870]\u001b[0m Trial 18 finished with value: 4478.670081037358 and parameters: {'n_estimators': 50, 'max_depth': 12, 'learning_rate': 0.01415620990692619, 'subsample': 0.5603278117700885, 'colsample_bytree': 0.698353315940183, 'gamma': 8.252215220055227, 'min_child_weight': 14}. Best is trial 11 with value: 4127.264911168589.\u001b[0m\n",
      "\u001b[32m[I 2023-06-21 16:17:49,678]\u001b[0m Trial 19 finished with value: 4088.64756540703 and parameters: {'n_estimators': 1000, 'max_depth': 17, 'learning_rate': 0.00164606854275803, 'subsample': 0.6758923778178398, 'colsample_bytree': 0.6561287436730823, 'gamma': 3.0616560671791433, 'min_child_weight': 18}. Best is trial 19 with value: 4088.64756540703.\u001b[0m\n",
      "\u001b[32m[I 2023-06-21 16:17:51,330]\u001b[0m Trial 20 finished with value: 4362.288682487288 and parameters: {'n_estimators': 1000, 'max_depth': 18, 'learning_rate': 0.00332156439919914, 'subsample': 0.6741157116359818, 'colsample_bytree': 0.6618121615182735, 'gamma': 4.012353285130854, 'min_child_weight': 1}. Best is trial 19 with value: 4088.64756540703.\u001b[0m\n",
      "\u001b[32m[I 2023-06-21 16:17:51,916]\u001b[0m Trial 21 finished with value: 4364.1999179546265 and parameters: {'n_estimators': 900, 'max_depth': 20, 'learning_rate': 0.01292457223464866, 'subsample': 0.5040980803410846, 'colsample_bytree': 0.7427008612187431, 'gamma': 6.767465643959414, 'min_child_weight': 18}. Best is trial 19 with value: 4088.64756540703.\u001b[0m\n",
      "\u001b[32m[I 2023-06-21 16:17:52,473]\u001b[0m Trial 22 finished with value: 4145.43319627224 and parameters: {'n_estimators': 850, 'max_depth': 11, 'learning_rate': 0.0034003923003476165, 'subsample': 0.5846046006477833, 'colsample_bytree': 0.6535302206889607, 'gamma': 1.8476422732627817, 'min_child_weight': 20}. Best is trial 19 with value: 4088.64756540703.\u001b[0m\n",
      "\u001b[32m[I 2023-06-21 16:17:53,060]\u001b[0m Trial 23 finished with value: 4119.917481605782 and parameters: {'n_estimators': 850, 'max_depth': 18, 'learning_rate': 0.0017359126882724957, 'subsample': 0.5928745881933146, 'colsample_bytree': 0.6196365747140135, 'gamma': 2.3522263177218443, 'min_child_weight': 14}. Best is trial 19 with value: 4088.64756540703.\u001b[0m\n",
      "\u001b[32m[I 2023-06-21 16:17:53,649]\u001b[0m Trial 24 finished with value: 4419.516322699848 and parameters: {'n_estimators': 800, 'max_depth': 18, 'learning_rate': 0.008439879690769885, 'subsample': 0.6241185523670955, 'colsample_bytree': 0.6011994324489273, 'gamma': 3.6063203444385032, 'min_child_weight': 14}. Best is trial 19 with value: 4088.64756540703.\u001b[0m\n",
      "\u001b[32m[I 2023-06-21 16:17:54,138]\u001b[0m Trial 25 finished with value: 4317.422225154553 and parameters: {'n_estimators': 700, 'max_depth': 18, 'learning_rate': 0.0013765747442626573, 'subsample': 0.6835915510110114, 'colsample_bytree': 0.6096117033889955, 'gamma': 1.9934785247596971, 'min_child_weight': 15}. Best is trial 19 with value: 4088.64756540703.\u001b[0m\n",
      "\u001b[32m[I 2023-06-21 16:17:54,902]\u001b[0m Trial 26 finished with value: 4708.242735084291 and parameters: {'n_estimators': 1000, 'max_depth': 16, 'learning_rate': 0.016426140916994333, 'subsample': 0.6048203066962491, 'colsample_bytree': 0.5618346273192016, 'gamma': 0.12847940252236079, 'min_child_weight': 12}. Best is trial 19 with value: 4088.64756540703.\u001b[0m\n",
      "\u001b[32m[I 2023-06-21 16:17:55,480]\u001b[0m Trial 27 finished with value: 4409.4808769762085 and parameters: {'n_estimators': 850, 'max_depth': 14, 'learning_rate': 0.009210607822031466, 'subsample': 0.5599645423281502, 'colsample_bytree': 0.6794991702936486, 'gamma': 4.563785014051406, 'min_child_weight': 18}. Best is trial 19 with value: 4088.64756540703.\u001b[0m\n",
      "\u001b[32m[I 2023-06-21 16:17:55,897]\u001b[0m Trial 28 finished with value: 4366.941303424722 and parameters: {'n_estimators': 600, 'max_depth': 19, 'learning_rate': 0.020598178849055054, 'subsample': 0.5524498313149279, 'colsample_bytree': 0.6440405794363018, 'gamma': 3.4282080893954987, 'min_child_weight': 18}. Best is trial 19 with value: 4088.64756540703.\u001b[0m\n",
      "\u001b[32m[I 2023-06-21 16:17:56,763]\u001b[0m Trial 29 finished with value: 5469.164864292686 and parameters: {'n_estimators': 900, 'max_depth': 15, 'learning_rate': 0.033999162622827206, 'subsample': 0.7604858122680994, 'colsample_bytree': 0.751215609504384, 'gamma': 2.5742452949210737, 'min_child_weight': 12}. Best is trial 19 with value: 4088.64756540703.\u001b[0m\n"
     ]
    },
    {
     "name": "stdout",
     "output_type": "stream",
     "text": [
      "Best parameters: {'n_estimators': 1000, 'max_depth': 17, 'learning_rate': 0.00164606854275803, 'subsample': 0.6758923778178398, 'colsample_bytree': 0.6561287436730823, 'gamma': 3.0616560671791433, 'min_child_weight': 18}\n",
      "Best RMSE: 4088.648\n"
     ]
    }
   ],
   "source": [
    "import optuna\n",
    "import pandas as pd\n",
    "import numpy as np\n",
    "import xgboost as xgb\n",
    "from sklearn.metrics import mean_squared_error\n",
    "def objective(trial):\n",
    "     # Define the hyperparameters to search over\n",
    "     params = {\n",
    "         'n_estimators': trial.suggest_int('n_estimators', 50, 1000, step=50),\n",
    "         'max_depth': trial.suggest_int('max_depth', 2, 20),\n",
    "         'learning_rate': trial.suggest_float('learning_rate', 0.001, 0.1),\n",
    "         'subsample': trial.suggest_float('subsample', 0.5, 1.0),\n",
    "         'colsample_bytree': trial.suggest_float('colsample_bytree', 0.5, 1.0),\n",
    "         'gamma': trial.suggest_float('gamma', 0, 20),\n",
    "         'min_child_weight': trial.suggest_int('min_child_weight', 1, 20),\n",
    "         \"eval_metric\": mean_squared_error     \n",
    "     }\n",
    "\n",
    "    \n",
    "     # Train an XGBoost classifier with the specified hyperparameters\n",
    "     clf = xgb.XGBRegressor(**params)\n",
    "     clf.fit(X_train_processed, y_train)\n",
    "    \n",
    "     # Calculate the auc on the test set\n",
    "     y_pred = clf.predict(X_test_processed)\n",
    "     rmse = mean_squared_error(y_test, y_pred,squared=False)\n",
    "    \n",
    "     # Return the accuracy as the objective value for Optuna to optimize\n",
    "     return rmse\n",
    "\n",
    "\n",
    "# Use Optuna to search for the best hyperparameters\n",
    "study = optuna.create_study(direction='minimize')\n",
    "study.optimize(objective, n_trials=30)\n",
    "# Print the best hyperparameters found by Optuna\n",
    "print(f'Best parameters: {study.best_params}')\n",
    "print(f'Best RMSE: {study.best_value:.3f}')"
   ]
  },
  {
   "cell_type": "code",
   "execution_count": 70,
   "metadata": {},
   "outputs": [],
   "source": [
    "#best_para = {'n_estimators': 250, 'max_depth': 4, 'learning_rate': 0.007106555945980472, 'subsample': 0.7737423542367182, 'colsample_bytree': 0.5131340580856684, 'gamma': 13.17031716280021, 'min_child_weight': 7}"
   ]
  },
  {
   "attachments": {},
   "cell_type": "markdown",
   "metadata": {},
   "source": [
    "test_setProduct1"
   ]
  },
  {
   "cell_type": "code",
   "execution_count": 71,
   "metadata": {},
   "outputs": [
    {
     "data": {
      "text/plain": [
       "XGBRegressor(base_score=None, booster=None, callbacks=None,\n",
       "             colsample_bylevel=None, colsample_bynode=None,\n",
       "             colsample_bytree=0.6561287436730823, early_stopping_rounds=None,\n",
       "             enable_categorical=False, eval_metric=None, feature_types=None,\n",
       "             gamma=3.0616560671791433, gpu_id=None, grow_policy=None,\n",
       "             importance_type=None, interaction_constraints=None,\n",
       "             learning_rate=0.00164606854275803, max_bin=None,\n",
       "             max_cat_threshold=None, max_cat_to_onehot=None,\n",
       "             max_delta_step=None, max_depth=17, max_leaves=None,\n",
       "             min_child_weight=18, missing=nan, monotone_constraints=None,\n",
       "             n_estimators=1000, n_jobs=None, num_parallel_tree=None,\n",
       "             predictor=None, random_state=None, ...)"
      ]
     },
     "execution_count": 71,
     "metadata": {},
     "output_type": "execute_result"
    }
   ],
   "source": [
    "import pandas  as pd\n",
    "import numpy   as np\n",
    "import xgboost as xgb\n",
    "\n",
    "regressor=xgb.XGBRegressor(**study.best_params)\n",
    "regressor.fit(X_train_processed, y_train)"
   ]
  },
  {
   "cell_type": "code",
   "execution_count": 72,
   "metadata": {},
   "outputs": [
    {
     "name": "stderr",
     "output_type": "stream",
     "text": [
      "C:\\Users\\Usuario\\AppData\\Local\\Temp\\ipykernel_10340\\649432351.py:34: FutureWarning: The frame.append method is deprecated and will be removed from pandas in a future version. Use pandas.concat instead.\n",
      "  predictions_df = predictions_df.append({'Material': material, 'MAPE': mape}, ignore_index=True)\n",
      "C:\\Users\\Usuario\\AppData\\Local\\Temp\\ipykernel_10340\\649432351.py:34: FutureWarning: The frame.append method is deprecated and will be removed from pandas in a future version. Use pandas.concat instead.\n",
      "  predictions_df = predictions_df.append({'Material': material, 'MAPE': mape}, ignore_index=True)\n",
      "C:\\Users\\Usuario\\AppData\\Local\\Temp\\ipykernel_10340\\649432351.py:34: FutureWarning: The frame.append method is deprecated and will be removed from pandas in a future version. Use pandas.concat instead.\n",
      "  predictions_df = predictions_df.append({'Material': material, 'MAPE': mape}, ignore_index=True)\n",
      "C:\\Users\\Usuario\\AppData\\Local\\Temp\\ipykernel_10340\\649432351.py:34: FutureWarning: The frame.append method is deprecated and will be removed from pandas in a future version. Use pandas.concat instead.\n",
      "  predictions_df = predictions_df.append({'Material': material, 'MAPE': mape}, ignore_index=True)\n",
      "C:\\Users\\Usuario\\AppData\\Local\\Temp\\ipykernel_10340\\649432351.py:34: FutureWarning: The frame.append method is deprecated and will be removed from pandas in a future version. Use pandas.concat instead.\n",
      "  predictions_df = predictions_df.append({'Material': material, 'MAPE': mape}, ignore_index=True)\n",
      "C:\\Users\\Usuario\\AppData\\Local\\Temp\\ipykernel_10340\\649432351.py:34: FutureWarning: The frame.append method is deprecated and will be removed from pandas in a future version. Use pandas.concat instead.\n",
      "  predictions_df = predictions_df.append({'Material': material, 'MAPE': mape}, ignore_index=True)\n",
      "C:\\Users\\Usuario\\AppData\\Local\\Temp\\ipykernel_10340\\649432351.py:34: FutureWarning: The frame.append method is deprecated and will be removed from pandas in a future version. Use pandas.concat instead.\n",
      "  predictions_df = predictions_df.append({'Material': material, 'MAPE': mape}, ignore_index=True)\n",
      "C:\\Users\\Usuario\\AppData\\Local\\Temp\\ipykernel_10340\\649432351.py:34: FutureWarning: The frame.append method is deprecated and will be removed from pandas in a future version. Use pandas.concat instead.\n",
      "  predictions_df = predictions_df.append({'Material': material, 'MAPE': mape}, ignore_index=True)\n",
      "C:\\Users\\Usuario\\AppData\\Local\\Temp\\ipykernel_10340\\649432351.py:34: FutureWarning: The frame.append method is deprecated and will be removed from pandas in a future version. Use pandas.concat instead.\n",
      "  predictions_df = predictions_df.append({'Material': material, 'MAPE': mape}, ignore_index=True)\n",
      "C:\\Users\\Usuario\\AppData\\Local\\Temp\\ipykernel_10340\\649432351.py:34: FutureWarning: The frame.append method is deprecated and will be removed from pandas in a future version. Use pandas.concat instead.\n",
      "  predictions_df = predictions_df.append({'Material': material, 'MAPE': mape}, ignore_index=True)\n",
      "C:\\Users\\Usuario\\AppData\\Local\\Temp\\ipykernel_10340\\649432351.py:34: FutureWarning: The frame.append method is deprecated and will be removed from pandas in a future version. Use pandas.concat instead.\n",
      "  predictions_df = predictions_df.append({'Material': material, 'MAPE': mape}, ignore_index=True)\n",
      "C:\\Users\\Usuario\\AppData\\Local\\Temp\\ipykernel_10340\\649432351.py:34: FutureWarning: The frame.append method is deprecated and will be removed from pandas in a future version. Use pandas.concat instead.\n",
      "  predictions_df = predictions_df.append({'Material': material, 'MAPE': mape}, ignore_index=True)\n",
      "C:\\Users\\Usuario\\AppData\\Local\\Temp\\ipykernel_10340\\649432351.py:34: FutureWarning: The frame.append method is deprecated and will be removed from pandas in a future version. Use pandas.concat instead.\n",
      "  predictions_df = predictions_df.append({'Material': material, 'MAPE': mape}, ignore_index=True)\n",
      "C:\\Users\\Usuario\\AppData\\Local\\Temp\\ipykernel_10340\\649432351.py:34: FutureWarning: The frame.append method is deprecated and will be removed from pandas in a future version. Use pandas.concat instead.\n",
      "  predictions_df = predictions_df.append({'Material': material, 'MAPE': mape}, ignore_index=True)\n"
     ]
    }
   ],
   "source": [
    "import pandas as pd\n",
    "\n",
    "# Get unique values of ID_material column\n",
    "unique_materials = df['ID_material'].unique()\n",
    "\n",
    "# Filter rows for each unique material and specific year/month range\n",
    "for material in unique_materials:\n",
    "    test_set = df[(df['ID_material'] == material) & (df['Year'] == 2022) & (df['MonthName'].isin(['August', 'September']))]\n",
    "    globals()[f\"test_set{material}\"] = test_set.copy()  # Create a separate DataFrame for each test set\n",
    "\n",
    "\n",
    "\n",
    "\n",
    "predictions_df = pd.DataFrame(columns=['Material', 'MAPE'])\n",
    "\n",
    "# Iterate over each unique material\n",
    "for material in unique_materials:\n",
    "    # Get the corresponding test set for the material\n",
    "    test_set = globals()[f\"test_set{material}\"]\n",
    "    X_test = test_set.drop(columns=\"Units\",axis=0)\n",
    "    \n",
    "    test_processed = preprocessor.transform(X_test)\n",
    "    \n",
    "    # Get the predictions for the test set\n",
    "    predictions = regressor.predict(test_processed)\n",
    "    \n",
    "    # Create a DataFrame for the predictions\n",
    "    predictions_material = pd.DataFrame({'Test': test_set['Units'], 'Prediction': predictions})\n",
    "    \n",
    "    # Calculate MAPE\n",
    "    mape = np.mean(np.abs((predictions_material['Test'] - predictions_material['Prediction']) / predictions_material['Test'])) * 100\n",
    "    \n",
    "    # Store material and MAPE in predictions_df\n",
    "    predictions_df = predictions_df.append({'Material': material, 'MAPE': mape}, ignore_index=True)\n",
    "\n",
    "    # Optional: Store predictions in a separate DataFrame\n",
    "    globals()[f\"predictions_{material}\"] = predictions_material.copy()"
   ]
  },
  {
   "cell_type": "code",
   "execution_count": 73,
   "metadata": {},
   "outputs": [],
   "source": [
    "mape_df = pd.DataFrame(columns=['Material', 'MAPE_Sum'])\n"
   ]
  },
  {
   "cell_type": "code",
   "execution_count": 78,
   "metadata": {},
   "outputs": [
    {
     "data": {
      "text/html": [
       "<div>\n",
       "<style scoped>\n",
       "    .dataframe tbody tr th:only-of-type {\n",
       "        vertical-align: middle;\n",
       "    }\n",
       "\n",
       "    .dataframe tbody tr th {\n",
       "        vertical-align: top;\n",
       "    }\n",
       "\n",
       "    .dataframe thead th {\n",
       "        text-align: right;\n",
       "    }\n",
       "</style>\n",
       "<table border=\"1\" class=\"dataframe\">\n",
       "  <thead>\n",
       "    <tr style=\"text-align: right;\">\n",
       "      <th></th>\n",
       "      <th>Test</th>\n",
       "      <th>Prediction</th>\n",
       "    </tr>\n",
       "  </thead>\n",
       "  <tbody>\n",
       "    <tr>\n",
       "      <th>642</th>\n",
       "      <td>1530.0</td>\n",
       "      <td>6058.311523</td>\n",
       "    </tr>\n",
       "    <tr>\n",
       "      <th>653</th>\n",
       "      <td>414.0</td>\n",
       "      <td>5925.620605</td>\n",
       "    </tr>\n",
       "  </tbody>\n",
       "</table>\n",
       "</div>"
      ],
      "text/plain": [
       "       Test   Prediction\n",
       "642  1530.0  6058.311523\n",
       "653   414.0  5925.620605"
      ]
     },
     "execution_count": 78,
     "metadata": {},
     "output_type": "execute_result"
    }
   ],
   "source": [
    "predictions_Product7"
   ]
  },
  {
   "cell_type": "code",
   "execution_count": 79,
   "metadata": {},
   "outputs": [
    {
     "data": {
      "text/html": [
       "<div>\n",
       "<style scoped>\n",
       "    .dataframe tbody tr th:only-of-type {\n",
       "        vertical-align: middle;\n",
       "    }\n",
       "\n",
       "    .dataframe tbody tr th {\n",
       "        vertical-align: top;\n",
       "    }\n",
       "\n",
       "    .dataframe thead th {\n",
       "        text-align: right;\n",
       "    }\n",
       "</style>\n",
       "<table border=\"1\" class=\"dataframe\">\n",
       "  <thead>\n",
       "    <tr style=\"text-align: right;\">\n",
       "      <th></th>\n",
       "      <th>ID_material</th>\n",
       "      <th>Year</th>\n",
       "      <th>Season</th>\n",
       "      <th>MonthName</th>\n",
       "      <th>Units</th>\n",
       "      <th>Number_Of_Holidays_In_That_Month_SPAIN</th>\n",
       "      <th>GDP_Past_Quarter_Change</th>\n",
       "      <th>PreviousUnemploymentQuarterAmmount</th>\n",
       "      <th>Months_Since_Material_Release</th>\n",
       "      <th>Absolute_Previous GDP Quarter Change</th>\n",
       "    </tr>\n",
       "  </thead>\n",
       "  <tbody>\n",
       "    <tr>\n",
       "      <th>642</th>\n",
       "      <td>Product7</td>\n",
       "      <td>2022</td>\n",
       "      <td>Summer</td>\n",
       "      <td>August</td>\n",
       "      <td>1530.0</td>\n",
       "      <td>1</td>\n",
       "      <td>2.5</td>\n",
       "      <td>2919.4</td>\n",
       "      <td>34</td>\n",
       "      <td>2.5</td>\n",
       "    </tr>\n",
       "    <tr>\n",
       "      <th>653</th>\n",
       "      <td>Product7</td>\n",
       "      <td>2022</td>\n",
       "      <td>Autumn</td>\n",
       "      <td>September</td>\n",
       "      <td>414.0</td>\n",
       "      <td>0</td>\n",
       "      <td>2.5</td>\n",
       "      <td>2919.4</td>\n",
       "      <td>35</td>\n",
       "      <td>2.5</td>\n",
       "    </tr>\n",
       "  </tbody>\n",
       "</table>\n",
       "</div>"
      ],
      "text/plain": [
       "    ID_material  Year  Season  MonthName   Units  \\\n",
       "642    Product7  2022  Summer     August  1530.0   \n",
       "653    Product7  2022  Autumn  September   414.0   \n",
       "\n",
       "     Number_Of_Holidays_In_That_Month_SPAIN  GDP_Past_Quarter_Change  \\\n",
       "642                                       1                      2.5   \n",
       "653                                       0                      2.5   \n",
       "\n",
       "     PreviousUnemploymentQuarterAmmount  Months_Since_Material_Release  \\\n",
       "642                              2919.4                             34   \n",
       "653                              2919.4                             35   \n",
       "\n",
       "     Absolute_Previous GDP Quarter Change  \n",
       "642                                   2.5  \n",
       "653                                   2.5  "
      ]
     },
     "execution_count": 79,
     "metadata": {},
     "output_type": "execute_result"
    }
   ],
   "source": [
    "test_setProduct7"
   ]
  },
  {
   "cell_type": "code",
   "execution_count": 76,
   "metadata": {},
   "outputs": [
    {
     "name": "stderr",
     "output_type": "stream",
     "text": [
      "C:\\Users\\Usuario\\AppData\\Local\\Temp\\ipykernel_10340\\1779927863.py:14: FutureWarning: The frame.append method is deprecated and will be removed from pandas in a future version. Use pandas.concat instead.\n",
      "  mape_df = mape_df.append({'Material': material, 'MAPE_Sum': mape_sum}, ignore_index=True)\n",
      "C:\\Users\\Usuario\\AppData\\Local\\Temp\\ipykernel_10340\\1779927863.py:14: FutureWarning: The frame.append method is deprecated and will be removed from pandas in a future version. Use pandas.concat instead.\n",
      "  mape_df = mape_df.append({'Material': material, 'MAPE_Sum': mape_sum}, ignore_index=True)\n",
      "C:\\Users\\Usuario\\AppData\\Local\\Temp\\ipykernel_10340\\1779927863.py:14: FutureWarning: The frame.append method is deprecated and will be removed from pandas in a future version. Use pandas.concat instead.\n",
      "  mape_df = mape_df.append({'Material': material, 'MAPE_Sum': mape_sum}, ignore_index=True)\n",
      "C:\\Users\\Usuario\\AppData\\Local\\Temp\\ipykernel_10340\\1779927863.py:14: FutureWarning: The frame.append method is deprecated and will be removed from pandas in a future version. Use pandas.concat instead.\n",
      "  mape_df = mape_df.append({'Material': material, 'MAPE_Sum': mape_sum}, ignore_index=True)\n",
      "C:\\Users\\Usuario\\AppData\\Local\\Temp\\ipykernel_10340\\1779927863.py:14: FutureWarning: The frame.append method is deprecated and will be removed from pandas in a future version. Use pandas.concat instead.\n",
      "  mape_df = mape_df.append({'Material': material, 'MAPE_Sum': mape_sum}, ignore_index=True)\n",
      "C:\\Users\\Usuario\\AppData\\Local\\Temp\\ipykernel_10340\\1779927863.py:14: FutureWarning: The frame.append method is deprecated and will be removed from pandas in a future version. Use pandas.concat instead.\n",
      "  mape_df = mape_df.append({'Material': material, 'MAPE_Sum': mape_sum}, ignore_index=True)\n",
      "C:\\Users\\Usuario\\AppData\\Local\\Temp\\ipykernel_10340\\1779927863.py:14: FutureWarning: The frame.append method is deprecated and will be removed from pandas in a future version. Use pandas.concat instead.\n",
      "  mape_df = mape_df.append({'Material': material, 'MAPE_Sum': mape_sum}, ignore_index=True)\n",
      "C:\\Users\\Usuario\\AppData\\Local\\Temp\\ipykernel_10340\\1779927863.py:14: FutureWarning: The frame.append method is deprecated and will be removed from pandas in a future version. Use pandas.concat instead.\n",
      "  mape_df = mape_df.append({'Material': material, 'MAPE_Sum': mape_sum}, ignore_index=True)\n",
      "C:\\Users\\Usuario\\AppData\\Local\\Temp\\ipykernel_10340\\1779927863.py:14: FutureWarning: The frame.append method is deprecated and will be removed from pandas in a future version. Use pandas.concat instead.\n",
      "  mape_df = mape_df.append({'Material': material, 'MAPE_Sum': mape_sum}, ignore_index=True)\n",
      "C:\\Users\\Usuario\\AppData\\Local\\Temp\\ipykernel_10340\\1779927863.py:14: FutureWarning: The frame.append method is deprecated and will be removed from pandas in a future version. Use pandas.concat instead.\n",
      "  mape_df = mape_df.append({'Material': material, 'MAPE_Sum': mape_sum}, ignore_index=True)\n",
      "C:\\Users\\Usuario\\AppData\\Local\\Temp\\ipykernel_10340\\1779927863.py:14: FutureWarning: The frame.append method is deprecated and will be removed from pandas in a future version. Use pandas.concat instead.\n",
      "  mape_df = mape_df.append({'Material': material, 'MAPE_Sum': mape_sum}, ignore_index=True)\n",
      "C:\\Users\\Usuario\\AppData\\Local\\Temp\\ipykernel_10340\\1779927863.py:14: FutureWarning: The frame.append method is deprecated and will be removed from pandas in a future version. Use pandas.concat instead.\n",
      "  mape_df = mape_df.append({'Material': material, 'MAPE_Sum': mape_sum}, ignore_index=True)\n",
      "C:\\Users\\Usuario\\AppData\\Local\\Temp\\ipykernel_10340\\1779927863.py:14: FutureWarning: The frame.append method is deprecated and will be removed from pandas in a future version. Use pandas.concat instead.\n",
      "  mape_df = mape_df.append({'Material': material, 'MAPE_Sum': mape_sum}, ignore_index=True)\n",
      "C:\\Users\\Usuario\\AppData\\Local\\Temp\\ipykernel_10340\\1779927863.py:14: FutureWarning: The frame.append method is deprecated and will be removed from pandas in a future version. Use pandas.concat instead.\n",
      "  mape_df = mape_df.append({'Material': material, 'MAPE_Sum': mape_sum}, ignore_index=True)\n"
     ]
    }
   ],
   "source": [
    "for material in unique_materials:\n",
    "    # Get the corresponding test set and prediction DataFrame for the material\n",
    "    test_set = globals()[f\"test_set{material}\"]\n",
    "    predictions_material = globals()[f\"predictions_{material}\"]\n",
    "    \n",
    "    # Calculate the sum of values for test set and predictions\n",
    "    test_sum = test_set['Units'].sum()\n",
    "    pred_sum = predictions_material['Prediction'].sum()\n",
    "    \n",
    "    # Calculate MAPE of sum of values\n",
    "    mape_sum = np.abs((test_sum - pred_sum) / test_sum) * 100\n",
    "    \n",
    "    # Store material and MAPE of sum in mape_df\n",
    "    mape_df = mape_df.append({'Material': material, 'MAPE_Sum': mape_sum}, ignore_index=True)"
   ]
  },
  {
   "cell_type": "code",
   "execution_count": 80,
   "metadata": {},
   "outputs": [
    {
     "data": {
      "text/plain": [
       "155.1136430809024"
      ]
     },
     "execution_count": 80,
     "metadata": {},
     "output_type": "execute_result"
    }
   ],
   "source": [
    "mape_df[\"MAPE_Sum\"].mean()"
   ]
  }
 ],
 "metadata": {
  "kernelspec": {
   "display_name": "base",
   "language": "python",
   "name": "python3"
  },
  "language_info": {
   "codemirror_mode": {
    "name": "ipython",
    "version": 3
   },
   "file_extension": ".py",
   "mimetype": "text/x-python",
   "name": "python",
   "nbconvert_exporter": "python",
   "pygments_lexer": "ipython3",
   "version": "3.9.13"
  },
  "orig_nbformat": 4
 },
 "nbformat": 4,
 "nbformat_minor": 2
}
