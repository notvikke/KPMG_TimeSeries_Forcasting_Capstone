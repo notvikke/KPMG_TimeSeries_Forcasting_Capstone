{
 "cells": [
  {
   "cell_type": "code",
   "execution_count": 85,
   "metadata": {},
   "outputs": [],
   "source": [
    "import pandas as pd\n",
    "import matplotlib.pyplot as plt\n",
    "from sklearn.metrics import mean_squared_error\n",
    "import math\n",
    "import pandas as pd\n",
    "import matplotlib.pyplot as plt\n",
    "import plotly.express as px\n",
    "import pandas as pd\n",
    "import lightgbm as lgb\n",
    "from sklearn.model_selection import LeaveOneOut\n",
    "from sklearn.preprocessing import OneHotEncoder, StandardScaler\n",
    "from sklearn.compose import ColumnTransformer\n",
    "from sklearn.metrics import mean_absolute_percentage_error\n",
    "import holidays\n",
    "from sklearn.neighbors import KNeighborsRegressor\n",
    "from sklearn.svm import SVR\n",
    "from sklearn.linear_model import LinearRegression\n",
    "from sklearn.ensemble import RandomForestRegressor\n",
    "from sklearn.ensemble import GradientBoostingRegressor\n",
    "import xgboost as xgb\n",
    "import optuna\n",
    "\n",
    "def mean_absolute_percentage_error(y_true, y_pred):\n",
    "    return (abs(y_true - y_pred) / y_true).mean() * 100\n",
    "\n",
    "\n",
    "df = pd.read_csv(\"monthly_data.csv\")"
   ]
  },
  {
   "cell_type": "code",
   "execution_count": 86,
   "metadata": {},
   "outputs": [],
   "source": [
    "import pandas as pd\n",
    "\n",
    "# Assuming your dataframe is named 'df'\n",
    "mapping = {\n",
    "    120004096: \"Product1\",\n",
    "    120009814: \"Product2\",\n",
    "    120009816: \"Product3\",\n",
    "    120010342: \"Product4\",\n",
    "    120010566: \"Product5\",\n",
    "    120010970: \"Product6\",\n",
    "    120011556: \"Product7\",\n",
    "    120011782: \"Product8\",\n",
    "    120012154: \"Product9\",\n",
    "    120012606: \"Product10\",\n",
    "    120014486: \"Product11\",\n",
    "    120014488: \"Product12\",\n",
    "    120015842: \"Product13\",\n",
    "    120015996: \"Product14\"\n",
    "}\n",
    "\n",
    "df['ID_material'] = df['ID_material'].map(mapping)"
   ]
  },
  {
   "cell_type": "code",
   "execution_count": 87,
   "metadata": {},
   "outputs": [
    {
     "data": {
      "text/html": [
       "<div>\n",
       "<style scoped>\n",
       "    .dataframe tbody tr th:only-of-type {\n",
       "        vertical-align: middle;\n",
       "    }\n",
       "\n",
       "    .dataframe tbody tr th {\n",
       "        vertical-align: top;\n",
       "    }\n",
       "\n",
       "    .dataframe thead th {\n",
       "        text-align: right;\n",
       "    }\n",
       "</style>\n",
       "<table border=\"1\" class=\"dataframe\">\n",
       "  <thead>\n",
       "    <tr style=\"text-align: right;\">\n",
       "      <th></th>\n",
       "      <th>Year</th>\n",
       "      <th>Season</th>\n",
       "      <th>MonthName</th>\n",
       "      <th>Units</th>\n",
       "      <th>Number_Of_Holidays_In_That_Month_SPAIN</th>\n",
       "      <th>GDP_Past_Quarter_Change</th>\n",
       "      <th>PreviousUnemploymentQuarterAmmount</th>\n",
       "      <th>Months_Since_Material_Release</th>\n",
       "      <th>Absolute_Previous GDP Quarter Change</th>\n",
       "    </tr>\n",
       "  </thead>\n",
       "  <tbody>\n",
       "    <tr>\n",
       "      <th>26</th>\n",
       "      <td>2018</td>\n",
       "      <td>Winter</td>\n",
       "      <td>February</td>\n",
       "      <td>2160.0</td>\n",
       "      <td>0</td>\n",
       "      <td>0.7</td>\n",
       "      <td>3766.7</td>\n",
       "      <td>0</td>\n",
       "      <td>0.7</td>\n",
       "    </tr>\n",
       "    <tr>\n",
       "      <th>30</th>\n",
       "      <td>2018</td>\n",
       "      <td>Spring</td>\n",
       "      <td>March</td>\n",
       "      <td>288.0</td>\n",
       "      <td>1</td>\n",
       "      <td>0.7</td>\n",
       "      <td>3766.7</td>\n",
       "      <td>1</td>\n",
       "      <td>0.7</td>\n",
       "    </tr>\n",
       "    <tr>\n",
       "      <th>33</th>\n",
       "      <td>2018</td>\n",
       "      <td>Spring</td>\n",
       "      <td>April</td>\n",
       "      <td>3744.0</td>\n",
       "      <td>1</td>\n",
       "      <td>0.5</td>\n",
       "      <td>3796.1</td>\n",
       "      <td>2</td>\n",
       "      <td>0.5</td>\n",
       "    </tr>\n",
       "  </tbody>\n",
       "</table>\n",
       "</div>"
      ],
      "text/plain": [
       "    Year  Season MonthName   Units  Number_Of_Holidays_In_That_Month_SPAIN  \\\n",
       "26  2018  Winter  February  2160.0                                       0   \n",
       "30  2018  Spring     March   288.0                                       1   \n",
       "33  2018  Spring     April  3744.0                                       1   \n",
       "\n",
       "    GDP_Past_Quarter_Change  PreviousUnemploymentQuarterAmmount  \\\n",
       "26                      0.7                              3766.7   \n",
       "30                      0.7                              3766.7   \n",
       "33                      0.5                              3796.1   \n",
       "\n",
       "    Months_Since_Material_Release  Absolute_Previous GDP Quarter Change  \n",
       "26                              0                                   0.7  \n",
       "30                              1                                   0.7  \n",
       "33                              2                                   0.5  "
      ]
     },
     "execution_count": 87,
     "metadata": {},
     "output_type": "execute_result"
    }
   ],
   "source": [
    "df = df[df[\"ID_material\"] == \"Product3\"]\n",
    "df = df.drop(columns=\"ID_material\")\n",
    "df.head(3)"
   ]
  },
  {
   "cell_type": "code",
   "execution_count": 88,
   "metadata": {},
   "outputs": [],
   "source": [
    "categorical_cols = ['MonthName',\"Season\"]\n",
    "numerical_cols = [\"Number_Of_Holidays_In_That_Month_SPAIN\",\"GDP_Past_Quarter_Change\",\"PreviousUnemploymentQuarterAmmount\",\"Months_Since_Material_Release\",\"Absolute_Previous GDP Quarter Change\"]\n",
    "# Filter the data for the last month of 2022 (August)\n",
    "test_df = df[(df['Year'] == 2022) & (df['MonthName'].isin(['September','August']))]\n",
    "val_df =df[(df['Year'] == 2022) & (df['MonthName'].isin(['June','July']))]"
   ]
  },
  {
   "cell_type": "code",
   "execution_count": 89,
   "metadata": {},
   "outputs": [],
   "source": [
    "# Separate the features and target variable for the test set\n",
    "X_test = test_df.drop(['Units'], axis=1)\n",
    "y_test = test_df['Units']\n",
    "y_val = val_df[\"Units\"]\n",
    "\n",
    "# Filter the data for training (excluding the last month of 2022)\n",
    "train_df = df[~((df['Year'] == 2022) & (df['MonthName'].isin(['September','August','June','July'])))]\n",
    "\n",
    "# Separate the features and target variable for training\n",
    "X_train = train_df.drop(['Units'], axis=1)\n",
    "y_train = train_df['Units']\n",
    "\n",
    "X_val = val_df.drop(['Units'], axis=1)\n",
    "y_val = val_df['Units']\n",
    "\n",
    "preprocessor = ColumnTransformer(\n",
    "    transformers=[\n",
    "        ('cat', OneHotEncoder(), categorical_cols),\n",
    "        ('num', StandardScaler(), numerical_cols)\n",
    "    ])\n",
    "\n",
    "X_train_processed = preprocessor.fit_transform(X_train)\n",
    "X_test_processed = preprocessor.transform(X_test)\n",
    "X_val_processed = preprocessor.transform(X_val)"
   ]
  },
  {
   "cell_type": "code",
   "execution_count": 90,
   "metadata": {},
   "outputs": [
    {
     "name": "stderr",
     "output_type": "stream",
     "text": [
      "\u001b[32m[I 2023-06-22 18:50:27,606]\u001b[0m A new study created in memory with name: no-name-c732fe23-d218-4b71-96f5-198801e44219\u001b[0m\n",
      "C:\\Users\\Usuario\\AppData\\Local\\Temp\\ipykernel_7140\\2967198301.py:5: FutureWarning: suggest_loguniform has been deprecated in v3.0.0. This feature will be removed in v6.0.0. See https://github.com/optuna/optuna/releases/tag/v3.0.0. Use :func:`~optuna.trial.Trial.suggest_float` instead.\n",
      "  'learning_rate': trial.suggest_loguniform('learning_rate', 0.001, 0.1),\n",
      "C:\\Users\\Usuario\\AppData\\Local\\Temp\\ipykernel_7140\\2967198301.py:6: FutureWarning: suggest_uniform has been deprecated in v3.0.0. This feature will be removed in v6.0.0. See https://github.com/optuna/optuna/releases/tag/v3.0.0. Use :func:`~optuna.trial.Trial.suggest_float` instead.\n",
      "  'subsample': trial.suggest_uniform('subsample', 0.5, 1.0),\n",
      "C:\\Users\\Usuario\\AppData\\Local\\Temp\\ipykernel_7140\\2967198301.py:7: FutureWarning: suggest_uniform has been deprecated in v3.0.0. This feature will be removed in v6.0.0. See https://github.com/optuna/optuna/releases/tag/v3.0.0. Use :func:`~optuna.trial.Trial.suggest_float` instead.\n",
      "  'colsample_bytree': trial.suggest_uniform('colsample_bytree', 0.5, 1.0),\n",
      "C:\\Users\\Usuario\\AppData\\Local\\Temp\\ipykernel_7140\\2967198301.py:8: FutureWarning: suggest_loguniform has been deprecated in v3.0.0. This feature will be removed in v6.0.0. See https://github.com/optuna/optuna/releases/tag/v3.0.0. Use :func:`~optuna.trial.Trial.suggest_float` instead.\n",
      "  'reg_alpha': trial.suggest_loguniform('reg_alpha', 0.001, 1.0),\n",
      "C:\\Users\\Usuario\\AppData\\Local\\Temp\\ipykernel_7140\\2967198301.py:9: FutureWarning: suggest_loguniform has been deprecated in v3.0.0. This feature will be removed in v6.0.0. See https://github.com/optuna/optuna/releases/tag/v3.0.0. Use :func:`~optuna.trial.Trial.suggest_float` instead.\n",
      "  'reg_lambda': trial.suggest_loguniform('reg_lambda', 0.001, 1.0),\n",
      "\u001b[32m[I 2023-06-22 18:50:27,696]\u001b[0m Trial 0 finished with value: 69.06651491841312 and parameters: {'n_estimators': 173, 'max_depth': 10, 'learning_rate': 0.02965713573888505, 'subsample': 0.5244631901509127, 'colsample_bytree': 0.813029144032918, 'reg_alpha': 0.048581196832847666, 'reg_lambda': 0.1685122162009639}. Best is trial 0 with value: 69.06651491841312.\u001b[0m\n",
      "\u001b[32m[I 2023-06-22 18:50:27,988]\u001b[0m Trial 1 finished with value: 69.38181882182126 and parameters: {'n_estimators': 545, 'max_depth': 7, 'learning_rate': 0.05411259934896918, 'subsample': 0.5935682467020624, 'colsample_bytree': 0.7716019913295159, 'reg_alpha': 0.005414340053921902, 'reg_lambda': 0.10668878516294922}. Best is trial 0 with value: 69.06651491841312.\u001b[0m\n",
      "\u001b[32m[I 2023-06-22 18:50:28,139]\u001b[0m Trial 2 finished with value: 71.03446879714885 and parameters: {'n_estimators': 457, 'max_depth': 4, 'learning_rate': 0.013053439118488533, 'subsample': 0.6891020557253444, 'colsample_bytree': 0.5900376715931845, 'reg_alpha': 0.003449484437175472, 'reg_lambda': 0.8927407684546853}. Best is trial 0 with value: 69.06651491841312.\u001b[0m\n",
      "\u001b[32m[I 2023-06-22 18:50:28,259]\u001b[0m Trial 3 finished with value: 63.588936619026946 and parameters: {'n_estimators': 346, 'max_depth': 4, 'learning_rate': 0.012954075496059555, 'subsample': 0.7851296260078722, 'colsample_bytree': 0.6016419886832753, 'reg_alpha': 0.21592524269752453, 'reg_lambda': 0.18733639525639073}. Best is trial 3 with value: 63.588936619026946.\u001b[0m\n",
      "\u001b[32m[I 2023-06-22 18:50:28,362]\u001b[0m Trial 4 finished with value: 88.54089565378017 and parameters: {'n_estimators': 280, 'max_depth': 5, 'learning_rate': 0.04335299446685323, 'subsample': 0.5757481655288127, 'colsample_bytree': 0.5321445562244616, 'reg_alpha': 0.01692129016976875, 'reg_lambda': 0.03951338198511908}. Best is trial 3 with value: 63.588936619026946.\u001b[0m\n",
      "\u001b[32m[I 2023-06-22 18:50:28,466]\u001b[0m Trial 5 finished with value: 71.05840854543858 and parameters: {'n_estimators': 421, 'max_depth': 3, 'learning_rate': 0.004633017168459501, 'subsample': 0.9951251620944237, 'colsample_bytree': 0.8968818878110827, 'reg_alpha': 0.02911324970041106, 'reg_lambda': 0.0012527366432722078}. Best is trial 3 with value: 63.588936619026946.\u001b[0m\n",
      "\u001b[32m[I 2023-06-22 18:50:28,686]\u001b[0m Trial 6 finished with value: 63.17244837523768 and parameters: {'n_estimators': 423, 'max_depth': 9, 'learning_rate': 0.030023598616553814, 'subsample': 0.6770342300990855, 'colsample_bytree': 0.9041894327038937, 'reg_alpha': 0.004758986153052742, 'reg_lambda': 0.0029211147921140265}. Best is trial 6 with value: 63.17244837523768.\u001b[0m\n",
      "\u001b[32m[I 2023-06-22 18:50:28,991]\u001b[0m Trial 7 finished with value: 60.164480865317046 and parameters: {'n_estimators': 684, 'max_depth': 7, 'learning_rate': 0.0035879079825423352, 'subsample': 0.8810922893156237, 'colsample_bytree': 0.7266622412635768, 'reg_alpha': 0.5973408470683108, 'reg_lambda': 0.002166988346143858}. Best is trial 7 with value: 60.164480865317046.\u001b[0m\n",
      "\u001b[32m[I 2023-06-22 18:50:29,246]\u001b[0m Trial 8 finished with value: 64.84531624607308 and parameters: {'n_estimators': 853, 'max_depth': 5, 'learning_rate': 0.0020943499668833565, 'subsample': 0.7544750290365385, 'colsample_bytree': 0.7211837873481171, 'reg_alpha': 0.006686776603359578, 'reg_lambda': 0.4816499504728436}. Best is trial 7 with value: 60.164480865317046.\u001b[0m\n",
      "\u001b[32m[I 2023-06-22 18:50:29,359]\u001b[0m Trial 9 finished with value: 60.32357190651868 and parameters: {'n_estimators': 438, 'max_depth': 3, 'learning_rate': 0.003624177029101977, 'subsample': 0.5655970291546586, 'colsample_bytree': 0.8910847803616311, 'reg_alpha': 0.785542756719678, 'reg_lambda': 0.03068237927506222}. Best is trial 7 with value: 60.164480865317046.\u001b[0m\n",
      "\u001b[32m[I 2023-06-22 18:50:29,756]\u001b[0m Trial 10 finished with value: 65.38817390562997 and parameters: {'n_estimators': 874, 'max_depth': 7, 'learning_rate': 0.0012003465046988196, 'subsample': 0.8764446643261593, 'colsample_bytree': 0.9933246811379985, 'reg_alpha': 0.6606249795797048, 'reg_lambda': 0.004809217101077872}. Best is trial 7 with value: 60.164480865317046.\u001b[0m\n",
      "\u001b[32m[I 2023-06-22 18:50:30,097]\u001b[0m Trial 11 finished with value: 62.5937890754175 and parameters: {'n_estimators': 713, 'max_depth': 8, 'learning_rate': 0.003965325768619372, 'subsample': 0.8562035832589008, 'colsample_bytree': 0.6887506781229282, 'reg_alpha': 0.9668602215297772, 'reg_lambda': 0.007535060595692}. Best is trial 7 with value: 60.164480865317046.\u001b[0m\n",
      "\u001b[32m[I 2023-06-22 18:50:30,385]\u001b[0m Trial 12 finished with value: 61.14463604316509 and parameters: {'n_estimators': 696, 'max_depth': 6, 'learning_rate': 0.0050783606491961114, 'subsample': 0.6430328164948728, 'colsample_bytree': 0.8367563399101232, 'reg_alpha': 0.24627963369147224, 'reg_lambda': 0.021638840681464364}. Best is trial 7 with value: 60.164480865317046.\u001b[0m\n",
      "\u001b[32m[I 2023-06-22 18:50:30,683]\u001b[0m Trial 13 finished with value: 65.87245880611358 and parameters: {'n_estimators': 694, 'max_depth': 8, 'learning_rate': 0.0024720981678370926, 'subsample': 0.5394954444816608, 'colsample_bytree': 0.6772747332142359, 'reg_alpha': 0.29638151786816447, 'reg_lambda': 0.014360022280356136}. Best is trial 7 with value: 60.164480865317046.\u001b[0m\n",
      "\u001b[32m[I 2023-06-22 18:50:31,049]\u001b[0m Trial 14 finished with value: 60.919181379691636 and parameters: {'n_estimators': 989, 'max_depth': 6, 'learning_rate': 0.007036159352409378, 'subsample': 0.8148910998135879, 'colsample_bytree': 0.7539465618378145, 'reg_alpha': 0.0887257750543377, 'reg_lambda': 0.0014015750844471229}. Best is trial 7 with value: 60.164480865317046.\u001b[0m\n",
      "\u001b[32m[I 2023-06-22 18:50:31,227]\u001b[0m Trial 15 finished with value: 69.41614302377852 and parameters: {'n_estimators': 614, 'max_depth': 3, 'learning_rate': 0.001343365017185258, 'subsample': 0.7171627441722525, 'colsample_bytree': 0.8395369853383938, 'reg_alpha': 0.9768040358122776, 'reg_lambda': 0.009923929309774794}. Best is trial 7 with value: 60.164480865317046.\u001b[0m\n",
      "\u001b[32m[I 2023-06-22 18:50:31,347]\u001b[0m Trial 16 finished with value: 84.76861721624142 and parameters: {'n_estimators': 124, 'max_depth': 8, 'learning_rate': 0.0025802850659485737, 'subsample': 0.5002189609469083, 'colsample_bytree': 0.9845646021700902, 'reg_alpha': 0.0010245127700529498, 'reg_lambda': 0.04249704444161325}. Best is trial 7 with value: 60.164480865317046.\u001b[0m\n",
      "\u001b[32m[I 2023-06-22 18:50:31,685]\u001b[0m Trial 17 finished with value: 73.83570191721437 and parameters: {'n_estimators': 534, 'max_depth': 5, 'learning_rate': 0.008684702051723914, 'subsample': 0.6097829772592167, 'colsample_bytree': 0.66571386234094, 'reg_alpha': 0.4126798862485162, 'reg_lambda': 0.004001113585772059}. Best is trial 7 with value: 60.164480865317046.\u001b[0m\n",
      "\u001b[32m[I 2023-06-22 18:50:31,941]\u001b[0m Trial 18 finished with value: 71.57990793702463 and parameters: {'n_estimators': 265, 'max_depth': 10, 'learning_rate': 0.0034162994597521363, 'subsample': 0.6355958790852576, 'colsample_bytree': 0.7988515368484336, 'reg_alpha': 0.1269000351645614, 'reg_lambda': 0.022078781167874605}. Best is trial 7 with value: 60.164480865317046.\u001b[0m\n",
      "\u001b[32m[I 2023-06-22 18:50:32,394]\u001b[0m Trial 19 finished with value: 66.9750415458881 and parameters: {'n_estimators': 778, 'max_depth': 4, 'learning_rate': 0.0015360276730581742, 'subsample': 0.9267973526105548, 'colsample_bytree': 0.7309734695709122, 'reg_alpha': 0.5004102800806752, 'reg_lambda': 0.0021111547927781383}. Best is trial 7 with value: 60.164480865317046.\u001b[0m\n",
      "\u001b[32m[I 2023-06-22 18:50:32,815]\u001b[0m Trial 20 finished with value: 60.20227260690517 and parameters: {'n_estimators': 619, 'max_depth': 6, 'learning_rate': 0.005895460692824409, 'subsample': 0.7580854360025113, 'colsample_bytree': 0.8862326930146307, 'reg_alpha': 0.14257687399012844, 'reg_lambda': 0.005823205397887751}. Best is trial 7 with value: 60.164480865317046.\u001b[0m\n",
      "\u001b[32m[I 2023-06-22 18:50:33,257]\u001b[0m Trial 21 finished with value: 60.04024283595817 and parameters: {'n_estimators': 602, 'max_depth': 7, 'learning_rate': 0.006099155517344685, 'subsample': 0.7411835698253408, 'colsample_bytree': 0.8881805801467292, 'reg_alpha': 0.4355445256239653, 'reg_lambda': 0.0067798821583967515}. Best is trial 21 with value: 60.04024283595817.\u001b[0m\n",
      "\u001b[32m[I 2023-06-22 18:50:33,690]\u001b[0m Trial 22 finished with value: 59.58507880962715 and parameters: {'n_estimators': 594, 'max_depth': 7, 'learning_rate': 0.006213203952025248, 'subsample': 0.7417803206579431, 'colsample_bytree': 0.9425152334115906, 'reg_alpha': 0.14217512606624255, 'reg_lambda': 0.005816423050117383}. Best is trial 22 with value: 59.58507880962715.\u001b[0m\n",
      "\u001b[32m[I 2023-06-22 18:50:34,138]\u001b[0m Trial 23 finished with value: 65.32327964823082 and parameters: {'n_estimators': 607, 'max_depth': 7, 'learning_rate': 0.009593960341659468, 'subsample': 0.7284437774225284, 'colsample_bytree': 0.9522648136401739, 'reg_alpha': 0.3959643207115666, 'reg_lambda': 0.0021564727553883617}. Best is trial 22 with value: 59.58507880962715.\u001b[0m\n",
      "\u001b[32m[I 2023-06-22 18:50:34,798]\u001b[0m Trial 24 finished with value: 58.46283120453042 and parameters: {'n_estimators': 804, 'max_depth': 9, 'learning_rate': 0.006944478500697391, 'subsample': 0.8023256289003812, 'colsample_bytree': 0.9484522200575286, 'reg_alpha': 0.22206491315458332, 'reg_lambda': 0.003573469023664035}. Best is trial 24 with value: 58.46283120453042.\u001b[0m\n",
      "\u001b[32m[I 2023-06-22 18:50:35,442]\u001b[0m Trial 25 finished with value: 59.885717321325224 and parameters: {'n_estimators': 813, 'max_depth': 9, 'learning_rate': 0.00694408603123519, 'subsample': 0.7898501570985614, 'colsample_bytree': 0.9369960161673654, 'reg_alpha': 0.1979034637386042, 'reg_lambda': 0.008947253450823475}. Best is trial 24 with value: 58.46283120453042.\u001b[0m\n",
      "\u001b[32m[I 2023-06-22 18:50:36,161]\u001b[0m Trial 26 finished with value: 61.529541015625 and parameters: {'n_estimators': 958, 'max_depth': 9, 'learning_rate': 0.017041067256268725, 'subsample': 0.8082146076651369, 'colsample_bytree': 0.9454587281102087, 'reg_alpha': 0.07921622694740652, 'reg_lambda': 0.01101048393197903}. Best is trial 24 with value: 58.46283120453042.\u001b[0m\n",
      "\u001b[32m[I 2023-06-22 18:50:36,836]\u001b[0m Trial 27 finished with value: 59.07447855308573 and parameters: {'n_estimators': 821, 'max_depth': 9, 'learning_rate': 0.0075867553946505325, 'subsample': 0.8155806126605643, 'colsample_bytree': 0.9516746662063261, 'reg_alpha': 0.18075189865108812, 'reg_lambda': 0.004262675461064443}. Best is trial 24 with value: 58.46283120453042.\u001b[0m\n",
      "\u001b[32m[I 2023-06-22 18:50:37,322]\u001b[0m Trial 28 finished with value: 73.51527138361855 and parameters: {'n_estimators': 916, 'max_depth': 10, 'learning_rate': 0.08436460282820271, 'subsample': 0.8327734739993402, 'colsample_bytree': 0.9915182401326447, 'reg_alpha': 0.12490222283442563, 'reg_lambda': 0.004406338481631179}. Best is trial 24 with value: 58.46283120453042.\u001b[0m\n",
      "\u001b[32m[I 2023-06-22 18:50:38,224]\u001b[0m Trial 29 finished with value: 56.58083315248843 and parameters: {'n_estimators': 762, 'max_depth': 9, 'learning_rate': 0.016694570261870545, 'subsample': 0.7686870812853237, 'colsample_bytree': 0.859229774042415, 'reg_alpha': 0.051908622379969405, 'reg_lambda': 0.0030678156956723797}. Best is trial 29 with value: 56.58083315248843.\u001b[0m\n",
      "\u001b[32m[I 2023-06-22 18:50:38,904]\u001b[0m Trial 30 finished with value: 59.50234226448826 and parameters: {'n_estimators': 749, 'max_depth': 10, 'learning_rate': 0.017571282005694903, 'subsample': 0.7728551326074355, 'colsample_bytree': 0.8565190458733538, 'reg_alpha': 0.050447040774261036, 'reg_lambda': 0.0010456745100363562}. Best is trial 29 with value: 56.58083315248843.\u001b[0m\n",
      "\u001b[32m[I 2023-06-22 18:50:39,522]\u001b[0m Trial 31 finished with value: 58.48543681795635 and parameters: {'n_estimators': 768, 'max_depth': 10, 'learning_rate': 0.01849022571777468, 'subsample': 0.7955759179961812, 'colsample_bytree': 0.8517391557256118, 'reg_alpha': 0.05038773892047464, 'reg_lambda': 0.0012316093631168513}. Best is trial 29 with value: 56.58083315248843.\u001b[0m\n",
      "\u001b[32m[I 2023-06-22 18:50:40,138]\u001b[0m Trial 32 finished with value: 53.93312645967675 and parameters: {'n_estimators': 813, 'max_depth': 9, 'learning_rate': 0.022720569941521395, 'subsample': 0.8195198353415144, 'colsample_bytree': 0.8016906199691536, 'reg_alpha': 0.04993138876156303, 'reg_lambda': 0.0031948498441195716}. Best is trial 32 with value: 53.93312645967675.\u001b[0m\n",
      "\u001b[32m[I 2023-06-22 18:50:40,749]\u001b[0m Trial 33 finished with value: 53.12672367802372 and parameters: {'n_estimators': 772, 'max_depth': 10, 'learning_rate': 0.024506985619804144, 'subsample': 0.7790777836549688, 'colsample_bytree': 0.8007092904151547, 'reg_alpha': 0.04495572613302039, 'reg_lambda': 0.0010001704988153238}. Best is trial 33 with value: 53.12672367802372.\u001b[0m\n",
      "\u001b[32m[I 2023-06-22 18:50:41,415]\u001b[0m Trial 34 finished with value: 50.373820148447834 and parameters: {'n_estimators': 900, 'max_depth': 9, 'learning_rate': 0.024547585615280868, 'subsample': 0.7747184253021562, 'colsample_bytree': 0.7996426185965434, 'reg_alpha': 0.02570346781862898, 'reg_lambda': 0.0029765305661682666}. Best is trial 34 with value: 50.373820148447834.\u001b[0m\n",
      "\u001b[32m[I 2023-06-22 18:50:42,044]\u001b[0m Trial 35 finished with value: 66.08212183392237 and parameters: {'n_estimators': 904, 'max_depth': 8, 'learning_rate': 0.027075476526676998, 'subsample': 0.6979750553866857, 'colsample_bytree': 0.7814380036946228, 'reg_alpha': 0.02270546992088396, 'reg_lambda': 0.0018640559947493088}. Best is trial 34 with value: 50.373820148447834.\u001b[0m\n",
      "\u001b[32m[I 2023-06-22 18:50:42,733]\u001b[0m Trial 36 finished with value: 52.356627126219415 and parameters: {'n_estimators': 959, 'max_depth': 10, 'learning_rate': 0.027412151259174396, 'subsample': 0.7719814622337631, 'colsample_bytree': 0.8039237998402898, 'reg_alpha': 0.03761287823376402, 'reg_lambda': 0.002955354967691788}. Best is trial 34 with value: 50.373820148447834.\u001b[0m\n",
      "\u001b[32m[I 2023-06-22 18:50:43,458]\u001b[0m Trial 37 finished with value: 59.32908234772859 and parameters: {'n_estimators': 943, 'max_depth': 10, 'learning_rate': 0.03256045711383571, 'subsample': 0.71274452367941, 'colsample_bytree': 0.7959872466453314, 'reg_alpha': 0.03525029976539852, 'reg_lambda': 0.001034141947622557}. Best is trial 34 with value: 50.373820148447834.\u001b[0m\n",
      "\u001b[32m[I 2023-06-22 18:50:44,100]\u001b[0m Trial 38 finished with value: 52.558689016513725 and parameters: {'n_estimators': 1000, 'max_depth': 10, 'learning_rate': 0.042738962800450246, 'subsample': 0.8379894815992853, 'colsample_bytree': 0.8127731071490422, 'reg_alpha': 0.015841870854568393, 'reg_lambda': 0.002615609108401421}. Best is trial 34 with value: 50.373820148447834.\u001b[0m\n",
      "\u001b[32m[I 2023-06-22 18:50:44,727]\u001b[0m Trial 39 finished with value: 52.114876237495864 and parameters: {'n_estimators': 994, 'max_depth': 10, 'learning_rate': 0.042470587010771874, 'subsample': 0.8454261359664457, 'colsample_bytree': 0.8194394706969644, 'reg_alpha': 0.012843808689628908, 'reg_lambda': 0.0015680657699720347}. Best is trial 34 with value: 50.373820148447834.\u001b[0m\n",
      "\u001b[32m[I 2023-06-22 18:50:45,338]\u001b[0m Trial 40 finished with value: 48.66973231078456 and parameters: {'n_estimators': 988, 'max_depth': 10, 'learning_rate': 0.04562276773624937, 'subsample': 0.846793641997608, 'colsample_bytree': 0.824721383297428, 'reg_alpha': 0.013330625183905914, 'reg_lambda': 0.0019150850711681642}. Best is trial 40 with value: 48.66973231078456.\u001b[0m\n",
      "\u001b[32m[I 2023-06-22 18:50:45,964]\u001b[0m Trial 41 finished with value: 56.53951332051918 and parameters: {'n_estimators': 991, 'max_depth': 10, 'learning_rate': 0.041840606770770276, 'subsample': 0.8462939934503183, 'colsample_bytree': 0.8278603677164541, 'reg_alpha': 0.013222925117309395, 'reg_lambda': 0.0019139729330893817}. Best is trial 40 with value: 48.66973231078456.\u001b[0m\n",
      "\u001b[32m[I 2023-06-22 18:50:46,514]\u001b[0m Trial 42 finished with value: 53.062051440042154 and parameters: {'n_estimators': 886, 'max_depth': 10, 'learning_rate': 0.050349955938229295, 'subsample': 0.8679239286755257, 'colsample_bytree': 0.764251647188869, 'reg_alpha': 0.015466890417720286, 'reg_lambda': 0.0026368708311447528}. Best is trial 40 with value: 48.66973231078456.\u001b[0m\n",
      "\u001b[32m[I 2023-06-22 18:50:47,201]\u001b[0m Trial 43 finished with value: 49.412552767960484 and parameters: {'n_estimators': 998, 'max_depth': 10, 'learning_rate': 0.03626986514943757, 'subsample': 0.9051045844058134, 'colsample_bytree': 0.8133600509812333, 'reg_alpha': 0.010507777947627705, 'reg_lambda': 0.0016740542167622363}. Best is trial 40 with value: 48.66973231078456.\u001b[0m\n",
      "\u001b[32m[I 2023-06-22 18:50:47,827]\u001b[0m Trial 44 finished with value: 57.919949324673446 and parameters: {'n_estimators': 925, 'max_depth': 9, 'learning_rate': 0.03522871040806531, 'subsample': 0.8906226776698433, 'colsample_bytree': 0.7736447024928097, 'reg_alpha': 0.008598788012290554, 'reg_lambda': 0.0014912516111797527}. Best is trial 40 with value: 48.66973231078456.\u001b[0m\n",
      "\u001b[32m[I 2023-06-22 18:50:48,334]\u001b[0m Trial 45 finished with value: 50.674955176297956 and parameters: {'n_estimators': 957, 'max_depth': 10, 'learning_rate': 0.06337754898923423, 'subsample': 0.9031191061905512, 'colsample_bytree': 0.8236685503579652, 'reg_alpha': 0.022876160102501052, 'reg_lambda': 0.001668778012435201}. Best is trial 40 with value: 48.66973231078456.\u001b[0m\n",
      "\u001b[32m[I 2023-06-22 18:50:48,787]\u001b[0m Trial 46 finished with value: 51.62447974795386 and parameters: {'n_estimators': 864, 'max_depth': 9, 'learning_rate': 0.06641337994791269, 'subsample': 0.9038968284142729, 'colsample_bytree': 0.8265198691721529, 'reg_alpha': 0.022636825156369215, 'reg_lambda': 0.0014799362087608175}. Best is trial 40 with value: 48.66973231078456.\u001b[0m\n",
      "\u001b[32m[I 2023-06-22 18:50:49,258]\u001b[0m Trial 47 finished with value: 51.2622005725033 and parameters: {'n_estimators': 852, 'max_depth': 8, 'learning_rate': 0.06558720190261293, 'subsample': 0.9064403988849855, 'colsample_bytree': 0.8665511844759116, 'reg_alpha': 0.023113853202483433, 'reg_lambda': 0.0016032315019022321}. Best is trial 40 with value: 48.66973231078456.\u001b[0m\n",
      "\u001b[32m[I 2023-06-22 18:50:49,698]\u001b[0m Trial 48 finished with value: 48.0096282151641 and parameters: {'n_estimators': 848, 'max_depth': 8, 'learning_rate': 0.06268853169248002, 'subsample': 0.9360166019731581, 'colsample_bytree': 0.868434906820886, 'reg_alpha': 0.0260924514929086, 'reg_lambda': 0.0017673680240457377}. Best is trial 48 with value: 48.0096282151641.\u001b[0m\n",
      "\u001b[32m[I 2023-06-22 18:50:50,152]\u001b[0m Trial 49 finished with value: 40.51387726314484 and parameters: {'n_estimators': 947, 'max_depth': 8, 'learning_rate': 0.09589601970519793, 'subsample': 0.9502359993608741, 'colsample_bytree': 0.8384240372922638, 'reg_alpha': 0.00997972401809908, 'reg_lambda': 0.002504517163729162}. Best is trial 49 with value: 40.51387726314484.\u001b[0m\n"
     ]
    }
   ],
   "source": [
    "def objective(trial):\n",
    "    params = {\n",
    "        'n_estimators': trial.suggest_int('n_estimators', 100, 1000),\n",
    "        'max_depth': trial.suggest_int('max_depth', 3, 10),\n",
    "        'learning_rate': trial.suggest_loguniform('learning_rate', 0.001, 0.1),\n",
    "        'subsample': trial.suggest_uniform('subsample', 0.5, 1.0),\n",
    "        'colsample_bytree': trial.suggest_uniform('colsample_bytree', 0.5, 1.0),\n",
    "        'reg_alpha': trial.suggest_loguniform('reg_alpha', 0.001, 1.0),\n",
    "        'reg_lambda': trial.suggest_loguniform('reg_lambda', 0.001, 1.0),\n",
    "        'random_state': 42\n",
    "    }\n",
    "\n",
    "    regressor = xgb.XGBRegressor(**params)\n",
    "    regressor.fit(X_train_processed, y_train)\n",
    "    predictions = regressor.predict(X_val_processed)\n",
    "    score = mean_absolute_percentage_error(y_val.sum(), predictions.sum())  # Replace with your actual scoring function\n",
    "    return score\n",
    "\n",
    "study = optuna.create_study(direction='minimize')\n",
    "study.optimize(objective, n_trials=50)\n",
    "\n",
    "best_params = study.best_params\n",
    "best_score = study.best_value"
   ]
  },
  {
   "cell_type": "code",
   "execution_count": 91,
   "metadata": {},
   "outputs": [],
   "source": [
    "import pandas  as pd\n",
    "import numpy   as np\n",
    "import xgboost as xgb\n",
    "\n",
    "regressor=xgb.XGBRegressor(**best_params)\n",
    "regressor.fit(X_train_processed, y_train)\n",
    "predictions = regressor.predict(X_test_processed)"
   ]
  },
  {
   "cell_type": "code",
   "execution_count": 92,
   "metadata": {},
   "outputs": [
    {
     "data": {
      "text/plain": [
       "3799.5073"
      ]
     },
     "execution_count": 92,
     "metadata": {},
     "output_type": "execute_result"
    }
   ],
   "source": [
    "predictions.sum()"
   ]
  },
  {
   "cell_type": "code",
   "execution_count": 93,
   "metadata": {},
   "outputs": [
    {
     "data": {
      "text/plain": [
       "5472.0"
      ]
     },
     "execution_count": 93,
     "metadata": {},
     "output_type": "execute_result"
    }
   ],
   "source": [
    "y_test.sum()"
   ]
  },
  {
   "cell_type": "code",
   "execution_count": 94,
   "metadata": {},
   "outputs": [
    {
     "data": {
      "text/plain": [
       "30.564559133429274"
      ]
     },
     "execution_count": 94,
     "metadata": {},
     "output_type": "execute_result"
    }
   ],
   "source": [
    "mean_absolute_percentage_error(y_test.sum(),predictions.sum())"
   ]
  }
 ],
 "metadata": {
  "kernelspec": {
   "display_name": "base",
   "language": "python",
   "name": "python3"
  },
  "language_info": {
   "codemirror_mode": {
    "name": "ipython",
    "version": 3
   },
   "file_extension": ".py",
   "mimetype": "text/x-python",
   "name": "python",
   "nbconvert_exporter": "python",
   "pygments_lexer": "ipython3",
   "version": "3.9.13"
  },
  "orig_nbformat": 4
 },
 "nbformat": 4,
 "nbformat_minor": 2
}
