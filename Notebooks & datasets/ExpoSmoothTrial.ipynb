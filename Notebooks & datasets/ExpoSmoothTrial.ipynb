{
 "cells": [
  {
   "cell_type": "code",
   "execution_count": 481,
   "metadata": {},
   "outputs": [],
   "source": [
    "import pandas as pd\n",
    "from pmdarima import auto_arima\n",
    "import numpy as np\n",
    "from statsmodels.tsa.holtwinters import ExponentialSmoothing\n",
    "def mean_absolute_percentage_error(y_true, y_pred):\n",
    "    return (abs(y_true - y_pred) / y_true).mean() * 100\n",
    "df = pd.read_csv(\"monthly_data.csv\")\n",
    "mapping = {\n",
    "    120004096: \"Product1\",\n",
    "    120009814: \"Product2\",\n",
    "    120009816: \"Product3\",\n",
    "    120010342: \"Product4\",\n",
    "    120010566: \"Product5\",\n",
    "    120010970: \"Product6\",\n",
    "    120011556: \"Product7\",\n",
    "    120011782: \"Product8\",\n",
    "    120012154: \"Product9\",\n",
    "    120012606: \"Product10\",\n",
    "    120014486: \"Product11\",\n",
    "    120014488: \"Product12\",\n",
    "    120015842: \"Product13\",\n",
    "    120015996: \"Product14\"}\n",
    "df['ID_material'] = df['ID_material'].map(mapping)"
   ]
  },
  {
   "cell_type": "code",
   "execution_count": 482,
   "metadata": {},
   "outputs": [],
   "source": [
    "df = df[df[\"ID_material\"] == \"Product4\"]\n",
    "df = df.drop(columns=\"ID_material\")"
   ]
  },
  {
   "cell_type": "code",
   "execution_count": 483,
   "metadata": {},
   "outputs": [
    {
     "data": {
      "text/html": [
       "<div>\n",
       "<style scoped>\n",
       "    .dataframe tbody tr th:only-of-type {\n",
       "        vertical-align: middle;\n",
       "    }\n",
       "\n",
       "    .dataframe tbody tr th {\n",
       "        vertical-align: top;\n",
       "    }\n",
       "\n",
       "    .dataframe thead th {\n",
       "        text-align: right;\n",
       "    }\n",
       "</style>\n",
       "<table border=\"1\" class=\"dataframe\">\n",
       "  <thead>\n",
       "    <tr style=\"text-align: right;\">\n",
       "      <th></th>\n",
       "      <th>Year</th>\n",
       "      <th>Season</th>\n",
       "      <th>MonthName</th>\n",
       "      <th>Units</th>\n",
       "      <th>Number_Of_Holidays_In_That_Month_SPAIN</th>\n",
       "      <th>GDP_Past_Quarter_Change</th>\n",
       "      <th>PreviousUnemploymentQuarterAmmount</th>\n",
       "      <th>Months_Since_Material_Release</th>\n",
       "      <th>Absolute_Previous GDP Quarter Change</th>\n",
       "    </tr>\n",
       "  </thead>\n",
       "  <tbody>\n",
       "    <tr>\n",
       "      <th>37</th>\n",
       "      <td>2018</td>\n",
       "      <td>Spring</td>\n",
       "      <td>April</td>\n",
       "      <td>480.0</td>\n",
       "      <td>1</td>\n",
       "      <td>0.5</td>\n",
       "      <td>3796.1</td>\n",
       "      <td>0</td>\n",
       "      <td>0.5</td>\n",
       "    </tr>\n",
       "    <tr>\n",
       "      <th>44</th>\n",
       "      <td>2018</td>\n",
       "      <td>Spring</td>\n",
       "      <td>May</td>\n",
       "      <td>2610.0</td>\n",
       "      <td>0</td>\n",
       "      <td>0.5</td>\n",
       "      <td>3796.1</td>\n",
       "      <td>1</td>\n",
       "      <td>0.5</td>\n",
       "    </tr>\n",
       "    <tr>\n",
       "      <th>51</th>\n",
       "      <td>2018</td>\n",
       "      <td>Summer</td>\n",
       "      <td>June</td>\n",
       "      <td>2580.0</td>\n",
       "      <td>0</td>\n",
       "      <td>0.5</td>\n",
       "      <td>3796.1</td>\n",
       "      <td>2</td>\n",
       "      <td>0.5</td>\n",
       "    </tr>\n",
       "    <tr>\n",
       "      <th>55</th>\n",
       "      <td>2018</td>\n",
       "      <td>Summer</td>\n",
       "      <td>July</td>\n",
       "      <td>1980.0</td>\n",
       "      <td>0</td>\n",
       "      <td>0.6</td>\n",
       "      <td>3490.1</td>\n",
       "      <td>3</td>\n",
       "      <td>0.6</td>\n",
       "    </tr>\n",
       "    <tr>\n",
       "      <th>69</th>\n",
       "      <td>2018</td>\n",
       "      <td>Summer</td>\n",
       "      <td>August</td>\n",
       "      <td>2340.0</td>\n",
       "      <td>1</td>\n",
       "      <td>0.6</td>\n",
       "      <td>3490.1</td>\n",
       "      <td>4</td>\n",
       "      <td>0.6</td>\n",
       "    </tr>\n",
       "    <tr>\n",
       "      <th>73</th>\n",
       "      <td>2018</td>\n",
       "      <td>Autumn</td>\n",
       "      <td>September</td>\n",
       "      <td>2820.0</td>\n",
       "      <td>0</td>\n",
       "      <td>0.6</td>\n",
       "      <td>3490.1</td>\n",
       "      <td>5</td>\n",
       "      <td>0.6</td>\n",
       "    </tr>\n",
       "    <tr>\n",
       "      <th>83</th>\n",
       "      <td>2018</td>\n",
       "      <td>Autumn</td>\n",
       "      <td>October</td>\n",
       "      <td>3780.0</td>\n",
       "      <td>2</td>\n",
       "      <td>0.5</td>\n",
       "      <td>3326.0</td>\n",
       "      <td>6</td>\n",
       "      <td>0.5</td>\n",
       "    </tr>\n",
       "    <tr>\n",
       "      <th>87</th>\n",
       "      <td>2018</td>\n",
       "      <td>Autumn</td>\n",
       "      <td>November</td>\n",
       "      <td>3960.0</td>\n",
       "      <td>0</td>\n",
       "      <td>0.5</td>\n",
       "      <td>3326.0</td>\n",
       "      <td>7</td>\n",
       "      <td>0.5</td>\n",
       "    </tr>\n",
       "    <tr>\n",
       "      <th>99</th>\n",
       "      <td>2018</td>\n",
       "      <td>Winter</td>\n",
       "      <td>December</td>\n",
       "      <td>3300.0</td>\n",
       "      <td>3</td>\n",
       "      <td>0.5</td>\n",
       "      <td>3326.0</td>\n",
       "      <td>8</td>\n",
       "      <td>0.5</td>\n",
       "    </tr>\n",
       "    <tr>\n",
       "      <th>102</th>\n",
       "      <td>2019</td>\n",
       "      <td>Winter</td>\n",
       "      <td>January</td>\n",
       "      <td>3360.0</td>\n",
       "      <td>1</td>\n",
       "      <td>0.7</td>\n",
       "      <td>3304.3</td>\n",
       "      <td>9</td>\n",
       "      <td>0.7</td>\n",
       "    </tr>\n",
       "    <tr>\n",
       "      <th>115</th>\n",
       "      <td>2019</td>\n",
       "      <td>Winter</td>\n",
       "      <td>February</td>\n",
       "      <td>3360.0</td>\n",
       "      <td>0</td>\n",
       "      <td>0.7</td>\n",
       "      <td>3304.3</td>\n",
       "      <td>10</td>\n",
       "      <td>0.7</td>\n",
       "    </tr>\n",
       "    <tr>\n",
       "      <th>125</th>\n",
       "      <td>2019</td>\n",
       "      <td>Spring</td>\n",
       "      <td>March</td>\n",
       "      <td>1980.0</td>\n",
       "      <td>0</td>\n",
       "      <td>0.7</td>\n",
       "      <td>3304.3</td>\n",
       "      <td>11</td>\n",
       "      <td>0.7</td>\n",
       "    </tr>\n",
       "    <tr>\n",
       "      <th>133</th>\n",
       "      <td>2019</td>\n",
       "      <td>Spring</td>\n",
       "      <td>April</td>\n",
       "      <td>3540.0</td>\n",
       "      <td>2</td>\n",
       "      <td>0.6</td>\n",
       "      <td>3354.2</td>\n",
       "      <td>12</td>\n",
       "      <td>0.6</td>\n",
       "    </tr>\n",
       "    <tr>\n",
       "      <th>138</th>\n",
       "      <td>2019</td>\n",
       "      <td>Spring</td>\n",
       "      <td>May</td>\n",
       "      <td>3540.0</td>\n",
       "      <td>0</td>\n",
       "      <td>0.6</td>\n",
       "      <td>3354.2</td>\n",
       "      <td>13</td>\n",
       "      <td>0.6</td>\n",
       "    </tr>\n",
       "    <tr>\n",
       "      <th>150</th>\n",
       "      <td>2019</td>\n",
       "      <td>Summer</td>\n",
       "      <td>June</td>\n",
       "      <td>4920.0</td>\n",
       "      <td>0</td>\n",
       "      <td>0.6</td>\n",
       "      <td>3354.2</td>\n",
       "      <td>14</td>\n",
       "      <td>0.6</td>\n",
       "    </tr>\n",
       "    <tr>\n",
       "      <th>156</th>\n",
       "      <td>2019</td>\n",
       "      <td>Summer</td>\n",
       "      <td>July</td>\n",
       "      <td>5340.0</td>\n",
       "      <td>0</td>\n",
       "      <td>0.4</td>\n",
       "      <td>3230.6</td>\n",
       "      <td>15</td>\n",
       "      <td>0.4</td>\n",
       "    </tr>\n",
       "    <tr>\n",
       "      <th>170</th>\n",
       "      <td>2019</td>\n",
       "      <td>Summer</td>\n",
       "      <td>August</td>\n",
       "      <td>2520.0</td>\n",
       "      <td>1</td>\n",
       "      <td>0.4</td>\n",
       "      <td>3230.6</td>\n",
       "      <td>16</td>\n",
       "      <td>0.4</td>\n",
       "    </tr>\n",
       "    <tr>\n",
       "      <th>173</th>\n",
       "      <td>2019</td>\n",
       "      <td>Autumn</td>\n",
       "      <td>September</td>\n",
       "      <td>4140.0</td>\n",
       "      <td>0</td>\n",
       "      <td>0.4</td>\n",
       "      <td>3230.6</td>\n",
       "      <td>17</td>\n",
       "      <td>0.4</td>\n",
       "    </tr>\n",
       "    <tr>\n",
       "      <th>183</th>\n",
       "      <td>2019</td>\n",
       "      <td>Autumn</td>\n",
       "      <td>October</td>\n",
       "      <td>3060.0</td>\n",
       "      <td>2</td>\n",
       "      <td>0.3</td>\n",
       "      <td>3214.4</td>\n",
       "      <td>18</td>\n",
       "      <td>0.3</td>\n",
       "    </tr>\n",
       "    <tr>\n",
       "      <th>200</th>\n",
       "      <td>2019</td>\n",
       "      <td>Autumn</td>\n",
       "      <td>November</td>\n",
       "      <td>2820.0</td>\n",
       "      <td>0</td>\n",
       "      <td>0.3</td>\n",
       "      <td>3214.4</td>\n",
       "      <td>19</td>\n",
       "      <td>0.3</td>\n",
       "    </tr>\n",
       "    <tr>\n",
       "      <th>208</th>\n",
       "      <td>2019</td>\n",
       "      <td>Winter</td>\n",
       "      <td>December</td>\n",
       "      <td>3420.0</td>\n",
       "      <td>4</td>\n",
       "      <td>0.3</td>\n",
       "      <td>3214.4</td>\n",
       "      <td>20</td>\n",
       "      <td>0.3</td>\n",
       "    </tr>\n",
       "    <tr>\n",
       "      <th>224</th>\n",
       "      <td>2020</td>\n",
       "      <td>Winter</td>\n",
       "      <td>January</td>\n",
       "      <td>4140.0</td>\n",
       "      <td>1</td>\n",
       "      <td>0.2</td>\n",
       "      <td>3191.9</td>\n",
       "      <td>21</td>\n",
       "      <td>0.2</td>\n",
       "    </tr>\n",
       "    <tr>\n",
       "      <th>235</th>\n",
       "      <td>2020</td>\n",
       "      <td>Winter</td>\n",
       "      <td>February</td>\n",
       "      <td>3960.0</td>\n",
       "      <td>0</td>\n",
       "      <td>0.2</td>\n",
       "      <td>3191.9</td>\n",
       "      <td>22</td>\n",
       "      <td>0.2</td>\n",
       "    </tr>\n",
       "    <tr>\n",
       "      <th>244</th>\n",
       "      <td>2020</td>\n",
       "      <td>Spring</td>\n",
       "      <td>March</td>\n",
       "      <td>3420.0</td>\n",
       "      <td>0</td>\n",
       "      <td>0.2</td>\n",
       "      <td>3191.9</td>\n",
       "      <td>23</td>\n",
       "      <td>0.2</td>\n",
       "    </tr>\n",
       "    <tr>\n",
       "      <th>258</th>\n",
       "      <td>2020</td>\n",
       "      <td>Spring</td>\n",
       "      <td>April</td>\n",
       "      <td>4380.0</td>\n",
       "      <td>2</td>\n",
       "      <td>-5.5</td>\n",
       "      <td>3313.0</td>\n",
       "      <td>24</td>\n",
       "      <td>5.5</td>\n",
       "    </tr>\n",
       "    <tr>\n",
       "      <th>264</th>\n",
       "      <td>2020</td>\n",
       "      <td>Spring</td>\n",
       "      <td>May</td>\n",
       "      <td>2460.0</td>\n",
       "      <td>0</td>\n",
       "      <td>-5.5</td>\n",
       "      <td>3313.0</td>\n",
       "      <td>25</td>\n",
       "      <td>5.5</td>\n",
       "    </tr>\n",
       "    <tr>\n",
       "      <th>285</th>\n",
       "      <td>2020</td>\n",
       "      <td>Summer</td>\n",
       "      <td>June</td>\n",
       "      <td>3220.0</td>\n",
       "      <td>0</td>\n",
       "      <td>-5.5</td>\n",
       "      <td>3313.0</td>\n",
       "      <td>26</td>\n",
       "      <td>5.5</td>\n",
       "    </tr>\n",
       "    <tr>\n",
       "      <th>291</th>\n",
       "      <td>2020</td>\n",
       "      <td>Summer</td>\n",
       "      <td>July</td>\n",
       "      <td>4200.0</td>\n",
       "      <td>0</td>\n",
       "      <td>-17.8</td>\n",
       "      <td>3368.0</td>\n",
       "      <td>27</td>\n",
       "      <td>17.8</td>\n",
       "    </tr>\n",
       "    <tr>\n",
       "      <th>301</th>\n",
       "      <td>2020</td>\n",
       "      <td>Summer</td>\n",
       "      <td>August</td>\n",
       "      <td>3900.0</td>\n",
       "      <td>1</td>\n",
       "      <td>-17.8</td>\n",
       "      <td>3368.0</td>\n",
       "      <td>28</td>\n",
       "      <td>17.8</td>\n",
       "    </tr>\n",
       "    <tr>\n",
       "      <th>316</th>\n",
       "      <td>2020</td>\n",
       "      <td>Autumn</td>\n",
       "      <td>September</td>\n",
       "      <td>4440.0</td>\n",
       "      <td>0</td>\n",
       "      <td>-17.8</td>\n",
       "      <td>3368.0</td>\n",
       "      <td>29</td>\n",
       "      <td>17.8</td>\n",
       "    </tr>\n",
       "    <tr>\n",
       "      <th>327</th>\n",
       "      <td>2020</td>\n",
       "      <td>Autumn</td>\n",
       "      <td>October</td>\n",
       "      <td>4860.0</td>\n",
       "      <td>1</td>\n",
       "      <td>16.6</td>\n",
       "      <td>3722.9</td>\n",
       "      <td>30</td>\n",
       "      <td>16.6</td>\n",
       "    </tr>\n",
       "    <tr>\n",
       "      <th>350</th>\n",
       "      <td>2020</td>\n",
       "      <td>Autumn</td>\n",
       "      <td>November</td>\n",
       "      <td>2580.0</td>\n",
       "      <td>1</td>\n",
       "      <td>16.6</td>\n",
       "      <td>3722.9</td>\n",
       "      <td>31</td>\n",
       "      <td>16.6</td>\n",
       "    </tr>\n",
       "    <tr>\n",
       "      <th>354</th>\n",
       "      <td>2020</td>\n",
       "      <td>Winter</td>\n",
       "      <td>December</td>\n",
       "      <td>2460.0</td>\n",
       "      <td>4</td>\n",
       "      <td>16.6</td>\n",
       "      <td>3722.9</td>\n",
       "      <td>32</td>\n",
       "      <td>16.6</td>\n",
       "    </tr>\n",
       "    <tr>\n",
       "      <th>372</th>\n",
       "      <td>2021</td>\n",
       "      <td>Winter</td>\n",
       "      <td>January</td>\n",
       "      <td>5100.0</td>\n",
       "      <td>2</td>\n",
       "      <td>-0.1</td>\n",
       "      <td>3719.8</td>\n",
       "      <td>33</td>\n",
       "      <td>0.1</td>\n",
       "    </tr>\n",
       "    <tr>\n",
       "      <th>382</th>\n",
       "      <td>2021</td>\n",
       "      <td>Winter</td>\n",
       "      <td>February</td>\n",
       "      <td>3120.0</td>\n",
       "      <td>0</td>\n",
       "      <td>-0.1</td>\n",
       "      <td>3719.8</td>\n",
       "      <td>34</td>\n",
       "      <td>0.1</td>\n",
       "    </tr>\n",
       "    <tr>\n",
       "      <th>395</th>\n",
       "      <td>2021</td>\n",
       "      <td>Spring</td>\n",
       "      <td>March</td>\n",
       "      <td>3240.0</td>\n",
       "      <td>1</td>\n",
       "      <td>-0.1</td>\n",
       "      <td>3719.8</td>\n",
       "      <td>35</td>\n",
       "      <td>0.1</td>\n",
       "    </tr>\n",
       "    <tr>\n",
       "      <th>409</th>\n",
       "      <td>2021</td>\n",
       "      <td>Spring</td>\n",
       "      <td>April</td>\n",
       "      <td>3420.0</td>\n",
       "      <td>1</td>\n",
       "      <td>-0.2</td>\n",
       "      <td>3653.9</td>\n",
       "      <td>36</td>\n",
       "      <td>0.2</td>\n",
       "    </tr>\n",
       "    <tr>\n",
       "      <th>430</th>\n",
       "      <td>2021</td>\n",
       "      <td>Spring</td>\n",
       "      <td>May</td>\n",
       "      <td>4020.0</td>\n",
       "      <td>0</td>\n",
       "      <td>-0.2</td>\n",
       "      <td>3653.9</td>\n",
       "      <td>37</td>\n",
       "      <td>0.2</td>\n",
       "    </tr>\n",
       "    <tr>\n",
       "      <th>440</th>\n",
       "      <td>2021</td>\n",
       "      <td>Summer</td>\n",
       "      <td>June</td>\n",
       "      <td>3000.0</td>\n",
       "      <td>0</td>\n",
       "      <td>-0.2</td>\n",
       "      <td>3653.9</td>\n",
       "      <td>38</td>\n",
       "      <td>0.2</td>\n",
       "    </tr>\n",
       "    <tr>\n",
       "      <th>458</th>\n",
       "      <td>2021</td>\n",
       "      <td>Summer</td>\n",
       "      <td>July</td>\n",
       "      <td>3180.0</td>\n",
       "      <td>0</td>\n",
       "      <td>1.4</td>\n",
       "      <td>3543.8</td>\n",
       "      <td>39</td>\n",
       "      <td>1.4</td>\n",
       "    </tr>\n",
       "    <tr>\n",
       "      <th>465</th>\n",
       "      <td>2021</td>\n",
       "      <td>Summer</td>\n",
       "      <td>August</td>\n",
       "      <td>4260.0</td>\n",
       "      <td>1</td>\n",
       "      <td>1.4</td>\n",
       "      <td>3543.8</td>\n",
       "      <td>40</td>\n",
       "      <td>1.4</td>\n",
       "    </tr>\n",
       "    <tr>\n",
       "      <th>491</th>\n",
       "      <td>2021</td>\n",
       "      <td>Autumn</td>\n",
       "      <td>September</td>\n",
       "      <td>2670.0</td>\n",
       "      <td>0</td>\n",
       "      <td>1.4</td>\n",
       "      <td>3543.8</td>\n",
       "      <td>41</td>\n",
       "      <td>1.4</td>\n",
       "    </tr>\n",
       "    <tr>\n",
       "      <th>506</th>\n",
       "      <td>2021</td>\n",
       "      <td>Autumn</td>\n",
       "      <td>October</td>\n",
       "      <td>1200.0</td>\n",
       "      <td>1</td>\n",
       "      <td>3.1</td>\n",
       "      <td>3416.7</td>\n",
       "      <td>42</td>\n",
       "      <td>3.1</td>\n",
       "    </tr>\n",
       "    <tr>\n",
       "      <th>510</th>\n",
       "      <td>2021</td>\n",
       "      <td>Autumn</td>\n",
       "      <td>November</td>\n",
       "      <td>0.0</td>\n",
       "      <td>1</td>\n",
       "      <td>3.1</td>\n",
       "      <td>3416.7</td>\n",
       "      <td>43</td>\n",
       "      <td>3.1</td>\n",
       "    </tr>\n",
       "    <tr>\n",
       "      <th>530</th>\n",
       "      <td>2021</td>\n",
       "      <td>Winter</td>\n",
       "      <td>December</td>\n",
       "      <td>0.0</td>\n",
       "      <td>4</td>\n",
       "      <td>3.1</td>\n",
       "      <td>3416.7</td>\n",
       "      <td>44</td>\n",
       "      <td>3.1</td>\n",
       "    </tr>\n",
       "    <tr>\n",
       "      <th>543</th>\n",
       "      <td>2022</td>\n",
       "      <td>Winter</td>\n",
       "      <td>January</td>\n",
       "      <td>1020.0</td>\n",
       "      <td>1</td>\n",
       "      <td>2.3</td>\n",
       "      <td>3103.8</td>\n",
       "      <td>45</td>\n",
       "      <td>2.3</td>\n",
       "    </tr>\n",
       "    <tr>\n",
       "      <th>553</th>\n",
       "      <td>2022</td>\n",
       "      <td>Winter</td>\n",
       "      <td>February</td>\n",
       "      <td>2340.0</td>\n",
       "      <td>0</td>\n",
       "      <td>2.3</td>\n",
       "      <td>3103.8</td>\n",
       "      <td>46</td>\n",
       "      <td>2.3</td>\n",
       "    </tr>\n",
       "    <tr>\n",
       "      <th>566</th>\n",
       "      <td>2022</td>\n",
       "      <td>Spring</td>\n",
       "      <td>March</td>\n",
       "      <td>3360.0</td>\n",
       "      <td>0</td>\n",
       "      <td>2.3</td>\n",
       "      <td>3103.8</td>\n",
       "      <td>47</td>\n",
       "      <td>2.3</td>\n",
       "    </tr>\n",
       "    <tr>\n",
       "      <th>582</th>\n",
       "      <td>2022</td>\n",
       "      <td>Spring</td>\n",
       "      <td>April</td>\n",
       "      <td>2520.0</td>\n",
       "      <td>1</td>\n",
       "      <td>-0.4</td>\n",
       "      <td>3174.7</td>\n",
       "      <td>48</td>\n",
       "      <td>0.4</td>\n",
       "    </tr>\n",
       "    <tr>\n",
       "      <th>598</th>\n",
       "      <td>2022</td>\n",
       "      <td>Spring</td>\n",
       "      <td>May</td>\n",
       "      <td>3540.0</td>\n",
       "      <td>0</td>\n",
       "      <td>-0.4</td>\n",
       "      <td>3174.7</td>\n",
       "      <td>49</td>\n",
       "      <td>0.4</td>\n",
       "    </tr>\n",
       "    <tr>\n",
       "      <th>618</th>\n",
       "      <td>2022</td>\n",
       "      <td>Summer</td>\n",
       "      <td>June</td>\n",
       "      <td>3300.0</td>\n",
       "      <td>0</td>\n",
       "      <td>-0.4</td>\n",
       "      <td>3174.7</td>\n",
       "      <td>50</td>\n",
       "      <td>0.4</td>\n",
       "    </tr>\n",
       "    <tr>\n",
       "      <th>625</th>\n",
       "      <td>2022</td>\n",
       "      <td>Summer</td>\n",
       "      <td>July</td>\n",
       "      <td>2520.0</td>\n",
       "      <td>0</td>\n",
       "      <td>2.5</td>\n",
       "      <td>2919.4</td>\n",
       "      <td>51</td>\n",
       "      <td>2.5</td>\n",
       "    </tr>\n",
       "    <tr>\n",
       "      <th>640</th>\n",
       "      <td>2022</td>\n",
       "      <td>Summer</td>\n",
       "      <td>August</td>\n",
       "      <td>3300.0</td>\n",
       "      <td>1</td>\n",
       "      <td>2.5</td>\n",
       "      <td>2919.4</td>\n",
       "      <td>52</td>\n",
       "      <td>2.5</td>\n",
       "    </tr>\n",
       "    <tr>\n",
       "      <th>648</th>\n",
       "      <td>2022</td>\n",
       "      <td>Autumn</td>\n",
       "      <td>September</td>\n",
       "      <td>3300.0</td>\n",
       "      <td>0</td>\n",
       "      <td>2.5</td>\n",
       "      <td>2919.4</td>\n",
       "      <td>53</td>\n",
       "      <td>2.5</td>\n",
       "    </tr>\n",
       "  </tbody>\n",
       "</table>\n",
       "</div>"
      ],
      "text/plain": [
       "     Year  Season  MonthName   Units  Number_Of_Holidays_In_That_Month_SPAIN  \\\n",
       "37   2018  Spring      April   480.0                                       1   \n",
       "44   2018  Spring        May  2610.0                                       0   \n",
       "51   2018  Summer       June  2580.0                                       0   \n",
       "55   2018  Summer       July  1980.0                                       0   \n",
       "69   2018  Summer     August  2340.0                                       1   \n",
       "73   2018  Autumn  September  2820.0                                       0   \n",
       "83   2018  Autumn    October  3780.0                                       2   \n",
       "87   2018  Autumn   November  3960.0                                       0   \n",
       "99   2018  Winter   December  3300.0                                       3   \n",
       "102  2019  Winter    January  3360.0                                       1   \n",
       "115  2019  Winter   February  3360.0                                       0   \n",
       "125  2019  Spring      March  1980.0                                       0   \n",
       "133  2019  Spring      April  3540.0                                       2   \n",
       "138  2019  Spring        May  3540.0                                       0   \n",
       "150  2019  Summer       June  4920.0                                       0   \n",
       "156  2019  Summer       July  5340.0                                       0   \n",
       "170  2019  Summer     August  2520.0                                       1   \n",
       "173  2019  Autumn  September  4140.0                                       0   \n",
       "183  2019  Autumn    October  3060.0                                       2   \n",
       "200  2019  Autumn   November  2820.0                                       0   \n",
       "208  2019  Winter   December  3420.0                                       4   \n",
       "224  2020  Winter    January  4140.0                                       1   \n",
       "235  2020  Winter   February  3960.0                                       0   \n",
       "244  2020  Spring      March  3420.0                                       0   \n",
       "258  2020  Spring      April  4380.0                                       2   \n",
       "264  2020  Spring        May  2460.0                                       0   \n",
       "285  2020  Summer       June  3220.0                                       0   \n",
       "291  2020  Summer       July  4200.0                                       0   \n",
       "301  2020  Summer     August  3900.0                                       1   \n",
       "316  2020  Autumn  September  4440.0                                       0   \n",
       "327  2020  Autumn    October  4860.0                                       1   \n",
       "350  2020  Autumn   November  2580.0                                       1   \n",
       "354  2020  Winter   December  2460.0                                       4   \n",
       "372  2021  Winter    January  5100.0                                       2   \n",
       "382  2021  Winter   February  3120.0                                       0   \n",
       "395  2021  Spring      March  3240.0                                       1   \n",
       "409  2021  Spring      April  3420.0                                       1   \n",
       "430  2021  Spring        May  4020.0                                       0   \n",
       "440  2021  Summer       June  3000.0                                       0   \n",
       "458  2021  Summer       July  3180.0                                       0   \n",
       "465  2021  Summer     August  4260.0                                       1   \n",
       "491  2021  Autumn  September  2670.0                                       0   \n",
       "506  2021  Autumn    October  1200.0                                       1   \n",
       "510  2021  Autumn   November     0.0                                       1   \n",
       "530  2021  Winter   December     0.0                                       4   \n",
       "543  2022  Winter    January  1020.0                                       1   \n",
       "553  2022  Winter   February  2340.0                                       0   \n",
       "566  2022  Spring      March  3360.0                                       0   \n",
       "582  2022  Spring      April  2520.0                                       1   \n",
       "598  2022  Spring        May  3540.0                                       0   \n",
       "618  2022  Summer       June  3300.0                                       0   \n",
       "625  2022  Summer       July  2520.0                                       0   \n",
       "640  2022  Summer     August  3300.0                                       1   \n",
       "648  2022  Autumn  September  3300.0                                       0   \n",
       "\n",
       "     GDP_Past_Quarter_Change  PreviousUnemploymentQuarterAmmount  \\\n",
       "37                       0.5                              3796.1   \n",
       "44                       0.5                              3796.1   \n",
       "51                       0.5                              3796.1   \n",
       "55                       0.6                              3490.1   \n",
       "69                       0.6                              3490.1   \n",
       "73                       0.6                              3490.1   \n",
       "83                       0.5                              3326.0   \n",
       "87                       0.5                              3326.0   \n",
       "99                       0.5                              3326.0   \n",
       "102                      0.7                              3304.3   \n",
       "115                      0.7                              3304.3   \n",
       "125                      0.7                              3304.3   \n",
       "133                      0.6                              3354.2   \n",
       "138                      0.6                              3354.2   \n",
       "150                      0.6                              3354.2   \n",
       "156                      0.4                              3230.6   \n",
       "170                      0.4                              3230.6   \n",
       "173                      0.4                              3230.6   \n",
       "183                      0.3                              3214.4   \n",
       "200                      0.3                              3214.4   \n",
       "208                      0.3                              3214.4   \n",
       "224                      0.2                              3191.9   \n",
       "235                      0.2                              3191.9   \n",
       "244                      0.2                              3191.9   \n",
       "258                     -5.5                              3313.0   \n",
       "264                     -5.5                              3313.0   \n",
       "285                     -5.5                              3313.0   \n",
       "291                    -17.8                              3368.0   \n",
       "301                    -17.8                              3368.0   \n",
       "316                    -17.8                              3368.0   \n",
       "327                     16.6                              3722.9   \n",
       "350                     16.6                              3722.9   \n",
       "354                     16.6                              3722.9   \n",
       "372                     -0.1                              3719.8   \n",
       "382                     -0.1                              3719.8   \n",
       "395                     -0.1                              3719.8   \n",
       "409                     -0.2                              3653.9   \n",
       "430                     -0.2                              3653.9   \n",
       "440                     -0.2                              3653.9   \n",
       "458                      1.4                              3543.8   \n",
       "465                      1.4                              3543.8   \n",
       "491                      1.4                              3543.8   \n",
       "506                      3.1                              3416.7   \n",
       "510                      3.1                              3416.7   \n",
       "530                      3.1                              3416.7   \n",
       "543                      2.3                              3103.8   \n",
       "553                      2.3                              3103.8   \n",
       "566                      2.3                              3103.8   \n",
       "582                     -0.4                              3174.7   \n",
       "598                     -0.4                              3174.7   \n",
       "618                     -0.4                              3174.7   \n",
       "625                      2.5                              2919.4   \n",
       "640                      2.5                              2919.4   \n",
       "648                      2.5                              2919.4   \n",
       "\n",
       "     Months_Since_Material_Release  Absolute_Previous GDP Quarter Change  \n",
       "37                               0                                   0.5  \n",
       "44                               1                                   0.5  \n",
       "51                               2                                   0.5  \n",
       "55                               3                                   0.6  \n",
       "69                               4                                   0.6  \n",
       "73                               5                                   0.6  \n",
       "83                               6                                   0.5  \n",
       "87                               7                                   0.5  \n",
       "99                               8                                   0.5  \n",
       "102                              9                                   0.7  \n",
       "115                             10                                   0.7  \n",
       "125                             11                                   0.7  \n",
       "133                             12                                   0.6  \n",
       "138                             13                                   0.6  \n",
       "150                             14                                   0.6  \n",
       "156                             15                                   0.4  \n",
       "170                             16                                   0.4  \n",
       "173                             17                                   0.4  \n",
       "183                             18                                   0.3  \n",
       "200                             19                                   0.3  \n",
       "208                             20                                   0.3  \n",
       "224                             21                                   0.2  \n",
       "235                             22                                   0.2  \n",
       "244                             23                                   0.2  \n",
       "258                             24                                   5.5  \n",
       "264                             25                                   5.5  \n",
       "285                             26                                   5.5  \n",
       "291                             27                                  17.8  \n",
       "301                             28                                  17.8  \n",
       "316                             29                                  17.8  \n",
       "327                             30                                  16.6  \n",
       "350                             31                                  16.6  \n",
       "354                             32                                  16.6  \n",
       "372                             33                                   0.1  \n",
       "382                             34                                   0.1  \n",
       "395                             35                                   0.1  \n",
       "409                             36                                   0.2  \n",
       "430                             37                                   0.2  \n",
       "440                             38                                   0.2  \n",
       "458                             39                                   1.4  \n",
       "465                             40                                   1.4  \n",
       "491                             41                                   1.4  \n",
       "506                             42                                   3.1  \n",
       "510                             43                                   3.1  \n",
       "530                             44                                   3.1  \n",
       "543                             45                                   2.3  \n",
       "553                             46                                   2.3  \n",
       "566                             47                                   2.3  \n",
       "582                             48                                   0.4  \n",
       "598                             49                                   0.4  \n",
       "618                             50                                   0.4  \n",
       "625                             51                                   2.5  \n",
       "640                             52                                   2.5  \n",
       "648                             53                                   2.5  "
      ]
     },
     "execution_count": 483,
     "metadata": {},
     "output_type": "execute_result"
    }
   ],
   "source": [
    "df"
   ]
  },
  {
   "cell_type": "code",
   "execution_count": 484,
   "metadata": {},
   "outputs": [],
   "source": [
    "categorical_cols = ['MonthName',\"Season\"]\n",
    "numerical_cols = [\"Number_Of_Holidays_In_That_Month_SPAIN\",\"GDP_Past_Quarter_Change\",\"PreviousUnemploymentQuarterAmmount\",\"Months_Since_Material_Release\",\"Absolute_Previous GDP Quarter Change\"]\n",
    "test_df = df[(df['Year'] == 2022) & (df['MonthName'].isin(['August', 'September']))]\n",
    "X_test = test_df.drop(['Units'], axis=1)\n",
    "y_test = test_df['Units']\n",
    "train_df = df[~((df['Year'] == 2022) & (df['MonthName'].isin(['August', 'September'])))]\n",
    "X_train = train_df.drop(['Units'], axis=1)\n",
    "y_train = train_df['Units']"
   ]
  },
  {
   "cell_type": "code",
   "execution_count": 485,
   "metadata": {},
   "outputs": [
    {
     "data": {
      "text/plain": [
       "37      480.0\n",
       "44     2610.0\n",
       "51     2580.0\n",
       "55     1980.0\n",
       "69     2340.0\n",
       "73     2820.0\n",
       "83     3780.0\n",
       "87     3960.0\n",
       "99     3300.0\n",
       "102    3360.0\n",
       "115    3360.0\n",
       "125    1980.0\n",
       "133    3540.0\n",
       "138    3540.0\n",
       "150    4920.0\n",
       "156    5340.0\n",
       "170    2520.0\n",
       "173    4140.0\n",
       "183    3060.0\n",
       "200    2820.0\n",
       "208    3420.0\n",
       "224    4140.0\n",
       "235    3960.0\n",
       "244    3420.0\n",
       "258    4380.0\n",
       "264    2460.0\n",
       "285    3220.0\n",
       "291    4200.0\n",
       "301    3900.0\n",
       "316    4440.0\n",
       "327    4860.0\n",
       "350    2580.0\n",
       "354    2460.0\n",
       "372    5100.0\n",
       "382    3120.0\n",
       "395    3240.0\n",
       "409    3420.0\n",
       "430    4020.0\n",
       "440    3000.0\n",
       "458    3180.0\n",
       "465    4260.0\n",
       "491    2670.0\n",
       "506    1200.0\n",
       "510       0.0\n",
       "530       0.0\n",
       "543    1020.0\n",
       "553    2340.0\n",
       "566    3360.0\n",
       "582    2520.0\n",
       "598    3540.0\n",
       "618    3300.0\n",
       "625    2520.0\n",
       "Name: Units, dtype: float64"
      ]
     },
     "execution_count": 485,
     "metadata": {},
     "output_type": "execute_result"
    }
   ],
   "source": [
    "y_train"
   ]
  },
  {
   "cell_type": "code",
   "execution_count": 486,
   "metadata": {},
   "outputs": [],
   "source": [
    "# train_data = y_train\n",
    "# model = ExponentialSmoothing(train_data, trend=\"add\", seasonal=\"None\", seasonal_periods=2)\n",
    "# fitted_model = model.fit()\n",
    "# forecast = fitted_model.forecast(steps=2)"
   ]
  },
  {
   "cell_type": "code",
   "execution_count": 487,
   "metadata": {},
   "outputs": [
    {
     "data": {
      "text/html": [
       "<div>\n",
       "<style scoped>\n",
       "    .dataframe tbody tr th:only-of-type {\n",
       "        vertical-align: middle;\n",
       "    }\n",
       "\n",
       "    .dataframe tbody tr th {\n",
       "        vertical-align: top;\n",
       "    }\n",
       "\n",
       "    .dataframe thead th {\n",
       "        text-align: right;\n",
       "    }\n",
       "</style>\n",
       "<table border=\"1\" class=\"dataframe\">\n",
       "  <thead>\n",
       "    <tr style=\"text-align: right;\">\n",
       "      <th></th>\n",
       "      <th>Year</th>\n",
       "      <th>Season</th>\n",
       "      <th>MonthName</th>\n",
       "      <th>Number_Of_Holidays_In_That_Month_SPAIN</th>\n",
       "      <th>GDP_Past_Quarter_Change</th>\n",
       "      <th>PreviousUnemploymentQuarterAmmount</th>\n",
       "      <th>Months_Since_Material_Release</th>\n",
       "      <th>Absolute_Previous GDP Quarter Change</th>\n",
       "    </tr>\n",
       "  </thead>\n",
       "  <tbody>\n",
       "    <tr>\n",
       "      <th>640</th>\n",
       "      <td>2022</td>\n",
       "      <td>Summer</td>\n",
       "      <td>August</td>\n",
       "      <td>1</td>\n",
       "      <td>2.5</td>\n",
       "      <td>2919.4</td>\n",
       "      <td>52</td>\n",
       "      <td>2.5</td>\n",
       "    </tr>\n",
       "    <tr>\n",
       "      <th>648</th>\n",
       "      <td>2022</td>\n",
       "      <td>Autumn</td>\n",
       "      <td>September</td>\n",
       "      <td>0</td>\n",
       "      <td>2.5</td>\n",
       "      <td>2919.4</td>\n",
       "      <td>53</td>\n",
       "      <td>2.5</td>\n",
       "    </tr>\n",
       "  </tbody>\n",
       "</table>\n",
       "</div>"
      ],
      "text/plain": [
       "     Year  Season  MonthName  Number_Of_Holidays_In_That_Month_SPAIN  \\\n",
       "640  2022  Summer     August                                       1   \n",
       "648  2022  Autumn  September                                       0   \n",
       "\n",
       "     GDP_Past_Quarter_Change  PreviousUnemploymentQuarterAmmount  \\\n",
       "640                      2.5                              2919.4   \n",
       "648                      2.5                              2919.4   \n",
       "\n",
       "     Months_Since_Material_Release  Absolute_Previous GDP Quarter Change  \n",
       "640                             52                                   2.5  \n",
       "648                             53                                   2.5  "
      ]
     },
     "execution_count": 487,
     "metadata": {},
     "output_type": "execute_result"
    }
   ],
   "source": [
    "X_test"
   ]
  },
  {
   "cell_type": "code",
   "execution_count": 488,
   "metadata": {},
   "outputs": [
    {
     "data": {
      "text/plain": [
       "6600.0"
      ]
     },
     "execution_count": 488,
     "metadata": {},
     "output_type": "execute_result"
    }
   ],
   "source": [
    "y_test.sum()"
   ]
  },
  {
   "cell_type": "code",
   "execution_count": 489,
   "metadata": {},
   "outputs": [
    {
     "data": {
      "text/plain": [
       "pandas.core.series.Series"
      ]
     },
     "execution_count": 489,
     "metadata": {},
     "output_type": "execute_result"
    }
   ],
   "source": [
    "type(y_test)"
   ]
  },
  {
   "cell_type": "code",
   "execution_count": 490,
   "metadata": {},
   "outputs": [
    {
     "data": {
      "text/plain": [
       "18.37"
      ]
     },
     "execution_count": 490,
     "metadata": {},
     "output_type": "execute_result"
    }
   ],
   "source": [
    "mean_absolute_percentage_error(y_test.sum(),forecast.sum()).round(2)"
   ]
  },
  {
   "cell_type": "code",
   "execution_count": 491,
   "metadata": {},
   "outputs": [
    {
     "name": "stderr",
     "output_type": "stream",
     "text": [
      "C:\\Users\\Usuario\\AppData\\Local\\Temp\\ipykernel_9148\\385985428.py:15: FutureWarning:\n",
      "\n",
      "The default dtype for empty Series will be 'object' instead of 'float64' in a future version. Specify a dtype explicitly to silence this warning.\n",
      "\n",
      "c:\\Users\\Usuario\\anaconda3\\lib\\site-packages\\statsmodels\\tsa\\base\\tsa_model.py:471: ValueWarning:\n",
      "\n",
      "An unsupported index was provided and will be ignored when e.g. forecasting.\n",
      "\n",
      "c:\\Users\\Usuario\\anaconda3\\lib\\site-packages\\statsmodels\\tsa\\base\\tsa_model.py:834: ValueWarning:\n",
      "\n",
      "No supported index is available. Prediction results will be given with an integer index beginning at `start`.\n",
      "\n",
      "C:\\Users\\Usuario\\AppData\\Local\\Temp\\ipykernel_9148\\385985428.py:26: FutureWarning:\n",
      "\n",
      "The series.append method is deprecated and will be removed from pandas in a future version. Use pandas.concat instead.\n",
      "\n",
      "C:\\Users\\Usuario\\AppData\\Local\\Temp\\ipykernel_9148\\385985428.py:29: FutureWarning:\n",
      "\n",
      "The series.append method is deprecated and will be removed from pandas in a future version. Use pandas.concat instead.\n",
      "\n",
      "c:\\Users\\Usuario\\anaconda3\\lib\\site-packages\\statsmodels\\tsa\\base\\tsa_model.py:471: ValueWarning:\n",
      "\n",
      "An unsupported index was provided and will be ignored when e.g. forecasting.\n",
      "\n",
      "c:\\Users\\Usuario\\anaconda3\\lib\\site-packages\\statsmodels\\tsa\\base\\tsa_model.py:834: ValueWarning:\n",
      "\n",
      "No supported index is available. Prediction results will be given with an integer index beginning at `start`.\n",
      "\n",
      "C:\\Users\\Usuario\\AppData\\Local\\Temp\\ipykernel_9148\\385985428.py:26: FutureWarning:\n",
      "\n",
      "The series.append method is deprecated and will be removed from pandas in a future version. Use pandas.concat instead.\n",
      "\n",
      "C:\\Users\\Usuario\\AppData\\Local\\Temp\\ipykernel_9148\\385985428.py:29: FutureWarning:\n",
      "\n",
      "The series.append method is deprecated and will be removed from pandas in a future version. Use pandas.concat instead.\n",
      "\n",
      "c:\\Users\\Usuario\\anaconda3\\lib\\site-packages\\statsmodels\\tsa\\base\\tsa_model.py:471: ValueWarning:\n",
      "\n",
      "An unsupported index was provided and will be ignored when e.g. forecasting.\n",
      "\n"
     ]
    },
    {
     "name": "stdout",
     "output_type": "stream",
     "text": [
      "46     229.943277\n",
      "47    -710.355758\n",
      "48    2922.358881\n",
      "49    2928.638267\n",
      "50    3491.239109\n",
      "51    3975.823821\n",
      "52    2681.654637\n",
      "53    2922.135324\n",
      "dtype: float64\n"
     ]
    },
    {
     "name": "stderr",
     "output_type": "stream",
     "text": [
      "c:\\Users\\Usuario\\anaconda3\\lib\\site-packages\\statsmodels\\tsa\\base\\tsa_model.py:834: ValueWarning:\n",
      "\n",
      "No supported index is available. Prediction results will be given with an integer index beginning at `start`.\n",
      "\n",
      "C:\\Users\\Usuario\\AppData\\Local\\Temp\\ipykernel_9148\\385985428.py:26: FutureWarning:\n",
      "\n",
      "The series.append method is deprecated and will be removed from pandas in a future version. Use pandas.concat instead.\n",
      "\n",
      "C:\\Users\\Usuario\\AppData\\Local\\Temp\\ipykernel_9148\\385985428.py:29: FutureWarning:\n",
      "\n",
      "The series.append method is deprecated and will be removed from pandas in a future version. Use pandas.concat instead.\n",
      "\n",
      "c:\\Users\\Usuario\\anaconda3\\lib\\site-packages\\statsmodels\\tsa\\base\\tsa_model.py:471: ValueWarning:\n",
      "\n",
      "An unsupported index was provided and will be ignored when e.g. forecasting.\n",
      "\n",
      "c:\\Users\\Usuario\\anaconda3\\lib\\site-packages\\statsmodels\\tsa\\base\\tsa_model.py:834: ValueWarning:\n",
      "\n",
      "No supported index is available. Prediction results will be given with an integer index beginning at `start`.\n",
      "\n",
      "C:\\Users\\Usuario\\AppData\\Local\\Temp\\ipykernel_9148\\385985428.py:26: FutureWarning:\n",
      "\n",
      "The series.append method is deprecated and will be removed from pandas in a future version. Use pandas.concat instead.\n",
      "\n",
      "C:\\Users\\Usuario\\AppData\\Local\\Temp\\ipykernel_9148\\385985428.py:29: FutureWarning:\n",
      "\n",
      "The series.append method is deprecated and will be removed from pandas in a future version. Use pandas.concat instead.\n",
      "\n"
     ]
    }
   ],
   "source": [
    "import pandas as pd\n",
    "from statsmodels.tsa.holtwinters import ExponentialSmoothing\n",
    "\n",
    "import pandas as pd\n",
    "from statsmodels.tsa.holtwinters import ExponentialSmoothing\n",
    "\n",
    "# Assuming your time series data is stored in a pandas Series called 'ts_data'\n",
    "# Replace 'ts_data' with the actual name of your Series\n",
    "\n",
    "# Splitting the data into training and test sets\n",
    "train_data = y_combined[:-8]  # All points except the last 8\n",
    "test_data = y_combined[-8:]  # Last 8 points for testing\n",
    "\n",
    "# Initialize an empty Series to store the forecasts\n",
    "all_forecasts = pd.Series()\n",
    "\n",
    "while len(test_data) > 0:\n",
    "    # Apply Exponential Smoothing on the training set\n",
    "    model = ExponentialSmoothing(train_data, trend=\"add\", seasonal=\"add\", seasonal_periods=12)\n",
    "    model_fit = model.fit()\n",
    "    \n",
    "    # Predict the next 2 months\n",
    "    forecast = model_fit.forecast(2)\n",
    "    \n",
    "    # Append the forecasted values to the Series\n",
    "    all_forecasts = all_forecasts.append(pd.Series(forecast))\n",
    "    \n",
    "    # Update the training set by adding the predicted values\n",
    "    train_data = train_data.append(test_data[:2])\n",
    "    \n",
    "    # Update the test set by removing the first 2 points\n",
    "    test_data = test_data[2:]\n",
    "    \n",
    "# Print the forecasted values\n",
    "print(all_forecasts)"
   ]
  },
  {
   "cell_type": "code",
   "execution_count": 492,
   "metadata": {},
   "outputs": [
    {
     "name": "stderr",
     "output_type": "stream",
     "text": [
      "C:\\Users\\Usuario\\AppData\\Local\\Temp\\ipykernel_9148\\3980167992.py:9: FutureWarning:\n",
      "\n",
      "The series.append method is deprecated and will be removed from pandas in a future version. Use pandas.concat instead.\n",
      "\n"
     ]
    },
    {
     "data": {
      "application/vnd.plotly.v1+json": {
       "config": {
        "plotlyServerURL": "https://plot.ly"
       },
       "data": [
        {
         "line": {
          "color": "blue"
         },
         "mode": "lines",
         "name": "Combined Data",
         "type": "scatter",
         "x": [
          553,
          566,
          582,
          598,
          618,
          625,
          640,
          648
         ],
         "y": [
          2340,
          3360,
          2520,
          3540,
          3300,
          2520,
          3300,
          3300
         ]
        },
        {
         "line": {
          "color": "red"
         },
         "mode": "lines",
         "name": "Forecast",
         "type": "scatter",
         "x": [
          553,
          566,
          582,
          598,
          618,
          625,
          640,
          648
         ],
         "y": [
          229.94327743988958,
          -710.3557583260184,
          2922.358880533535,
          2928.638266913661,
          3491.2391087300907,
          3975.8238214506528,
          2681.654636926692,
          2922.135324338031
         ]
        }
       ],
       "layout": {
        "template": {
         "data": {
          "bar": [
           {
            "error_x": {
             "color": "#2a3f5f"
            },
            "error_y": {
             "color": "#2a3f5f"
            },
            "marker": {
             "line": {
              "color": "#E5ECF6",
              "width": 0.5
             },
             "pattern": {
              "fillmode": "overlay",
              "size": 10,
              "solidity": 0.2
             }
            },
            "type": "bar"
           }
          ],
          "barpolar": [
           {
            "marker": {
             "line": {
              "color": "#E5ECF6",
              "width": 0.5
             },
             "pattern": {
              "fillmode": "overlay",
              "size": 10,
              "solidity": 0.2
             }
            },
            "type": "barpolar"
           }
          ],
          "carpet": [
           {
            "aaxis": {
             "endlinecolor": "#2a3f5f",
             "gridcolor": "white",
             "linecolor": "white",
             "minorgridcolor": "white",
             "startlinecolor": "#2a3f5f"
            },
            "baxis": {
             "endlinecolor": "#2a3f5f",
             "gridcolor": "white",
             "linecolor": "white",
             "minorgridcolor": "white",
             "startlinecolor": "#2a3f5f"
            },
            "type": "carpet"
           }
          ],
          "choropleth": [
           {
            "colorbar": {
             "outlinewidth": 0,
             "ticks": ""
            },
            "type": "choropleth"
           }
          ],
          "contour": [
           {
            "colorbar": {
             "outlinewidth": 0,
             "ticks": ""
            },
            "colorscale": [
             [
              0,
              "#0d0887"
             ],
             [
              0.1111111111111111,
              "#46039f"
             ],
             [
              0.2222222222222222,
              "#7201a8"
             ],
             [
              0.3333333333333333,
              "#9c179e"
             ],
             [
              0.4444444444444444,
              "#bd3786"
             ],
             [
              0.5555555555555556,
              "#d8576b"
             ],
             [
              0.6666666666666666,
              "#ed7953"
             ],
             [
              0.7777777777777778,
              "#fb9f3a"
             ],
             [
              0.8888888888888888,
              "#fdca26"
             ],
             [
              1,
              "#f0f921"
             ]
            ],
            "type": "contour"
           }
          ],
          "contourcarpet": [
           {
            "colorbar": {
             "outlinewidth": 0,
             "ticks": ""
            },
            "type": "contourcarpet"
           }
          ],
          "heatmap": [
           {
            "colorbar": {
             "outlinewidth": 0,
             "ticks": ""
            },
            "colorscale": [
             [
              0,
              "#0d0887"
             ],
             [
              0.1111111111111111,
              "#46039f"
             ],
             [
              0.2222222222222222,
              "#7201a8"
             ],
             [
              0.3333333333333333,
              "#9c179e"
             ],
             [
              0.4444444444444444,
              "#bd3786"
             ],
             [
              0.5555555555555556,
              "#d8576b"
             ],
             [
              0.6666666666666666,
              "#ed7953"
             ],
             [
              0.7777777777777778,
              "#fb9f3a"
             ],
             [
              0.8888888888888888,
              "#fdca26"
             ],
             [
              1,
              "#f0f921"
             ]
            ],
            "type": "heatmap"
           }
          ],
          "heatmapgl": [
           {
            "colorbar": {
             "outlinewidth": 0,
             "ticks": ""
            },
            "colorscale": [
             [
              0,
              "#0d0887"
             ],
             [
              0.1111111111111111,
              "#46039f"
             ],
             [
              0.2222222222222222,
              "#7201a8"
             ],
             [
              0.3333333333333333,
              "#9c179e"
             ],
             [
              0.4444444444444444,
              "#bd3786"
             ],
             [
              0.5555555555555556,
              "#d8576b"
             ],
             [
              0.6666666666666666,
              "#ed7953"
             ],
             [
              0.7777777777777778,
              "#fb9f3a"
             ],
             [
              0.8888888888888888,
              "#fdca26"
             ],
             [
              1,
              "#f0f921"
             ]
            ],
            "type": "heatmapgl"
           }
          ],
          "histogram": [
           {
            "marker": {
             "pattern": {
              "fillmode": "overlay",
              "size": 10,
              "solidity": 0.2
             }
            },
            "type": "histogram"
           }
          ],
          "histogram2d": [
           {
            "colorbar": {
             "outlinewidth": 0,
             "ticks": ""
            },
            "colorscale": [
             [
              0,
              "#0d0887"
             ],
             [
              0.1111111111111111,
              "#46039f"
             ],
             [
              0.2222222222222222,
              "#7201a8"
             ],
             [
              0.3333333333333333,
              "#9c179e"
             ],
             [
              0.4444444444444444,
              "#bd3786"
             ],
             [
              0.5555555555555556,
              "#d8576b"
             ],
             [
              0.6666666666666666,
              "#ed7953"
             ],
             [
              0.7777777777777778,
              "#fb9f3a"
             ],
             [
              0.8888888888888888,
              "#fdca26"
             ],
             [
              1,
              "#f0f921"
             ]
            ],
            "type": "histogram2d"
           }
          ],
          "histogram2dcontour": [
           {
            "colorbar": {
             "outlinewidth": 0,
             "ticks": ""
            },
            "colorscale": [
             [
              0,
              "#0d0887"
             ],
             [
              0.1111111111111111,
              "#46039f"
             ],
             [
              0.2222222222222222,
              "#7201a8"
             ],
             [
              0.3333333333333333,
              "#9c179e"
             ],
             [
              0.4444444444444444,
              "#bd3786"
             ],
             [
              0.5555555555555556,
              "#d8576b"
             ],
             [
              0.6666666666666666,
              "#ed7953"
             ],
             [
              0.7777777777777778,
              "#fb9f3a"
             ],
             [
              0.8888888888888888,
              "#fdca26"
             ],
             [
              1,
              "#f0f921"
             ]
            ],
            "type": "histogram2dcontour"
           }
          ],
          "mesh3d": [
           {
            "colorbar": {
             "outlinewidth": 0,
             "ticks": ""
            },
            "type": "mesh3d"
           }
          ],
          "parcoords": [
           {
            "line": {
             "colorbar": {
              "outlinewidth": 0,
              "ticks": ""
             }
            },
            "type": "parcoords"
           }
          ],
          "pie": [
           {
            "automargin": true,
            "type": "pie"
           }
          ],
          "scatter": [
           {
            "fillpattern": {
             "fillmode": "overlay",
             "size": 10,
             "solidity": 0.2
            },
            "type": "scatter"
           }
          ],
          "scatter3d": [
           {
            "line": {
             "colorbar": {
              "outlinewidth": 0,
              "ticks": ""
             }
            },
            "marker": {
             "colorbar": {
              "outlinewidth": 0,
              "ticks": ""
             }
            },
            "type": "scatter3d"
           }
          ],
          "scattercarpet": [
           {
            "marker": {
             "colorbar": {
              "outlinewidth": 0,
              "ticks": ""
             }
            },
            "type": "scattercarpet"
           }
          ],
          "scattergeo": [
           {
            "marker": {
             "colorbar": {
              "outlinewidth": 0,
              "ticks": ""
             }
            },
            "type": "scattergeo"
           }
          ],
          "scattergl": [
           {
            "marker": {
             "colorbar": {
              "outlinewidth": 0,
              "ticks": ""
             }
            },
            "type": "scattergl"
           }
          ],
          "scattermapbox": [
           {
            "marker": {
             "colorbar": {
              "outlinewidth": 0,
              "ticks": ""
             }
            },
            "type": "scattermapbox"
           }
          ],
          "scatterpolar": [
           {
            "marker": {
             "colorbar": {
              "outlinewidth": 0,
              "ticks": ""
             }
            },
            "type": "scatterpolar"
           }
          ],
          "scatterpolargl": [
           {
            "marker": {
             "colorbar": {
              "outlinewidth": 0,
              "ticks": ""
             }
            },
            "type": "scatterpolargl"
           }
          ],
          "scatterternary": [
           {
            "marker": {
             "colorbar": {
              "outlinewidth": 0,
              "ticks": ""
             }
            },
            "type": "scatterternary"
           }
          ],
          "surface": [
           {
            "colorbar": {
             "outlinewidth": 0,
             "ticks": ""
            },
            "colorscale": [
             [
              0,
              "#0d0887"
             ],
             [
              0.1111111111111111,
              "#46039f"
             ],
             [
              0.2222222222222222,
              "#7201a8"
             ],
             [
              0.3333333333333333,
              "#9c179e"
             ],
             [
              0.4444444444444444,
              "#bd3786"
             ],
             [
              0.5555555555555556,
              "#d8576b"
             ],
             [
              0.6666666666666666,
              "#ed7953"
             ],
             [
              0.7777777777777778,
              "#fb9f3a"
             ],
             [
              0.8888888888888888,
              "#fdca26"
             ],
             [
              1,
              "#f0f921"
             ]
            ],
            "type": "surface"
           }
          ],
          "table": [
           {
            "cells": {
             "fill": {
              "color": "#EBF0F8"
             },
             "line": {
              "color": "white"
             }
            },
            "header": {
             "fill": {
              "color": "#C8D4E3"
             },
             "line": {
              "color": "white"
             }
            },
            "type": "table"
           }
          ]
         },
         "layout": {
          "annotationdefaults": {
           "arrowcolor": "#2a3f5f",
           "arrowhead": 0,
           "arrowwidth": 1
          },
          "autotypenumbers": "strict",
          "coloraxis": {
           "colorbar": {
            "outlinewidth": 0,
            "ticks": ""
           }
          },
          "colorscale": {
           "diverging": [
            [
             0,
             "#8e0152"
            ],
            [
             0.1,
             "#c51b7d"
            ],
            [
             0.2,
             "#de77ae"
            ],
            [
             0.3,
             "#f1b6da"
            ],
            [
             0.4,
             "#fde0ef"
            ],
            [
             0.5,
             "#f7f7f7"
            ],
            [
             0.6,
             "#e6f5d0"
            ],
            [
             0.7,
             "#b8e186"
            ],
            [
             0.8,
             "#7fbc41"
            ],
            [
             0.9,
             "#4d9221"
            ],
            [
             1,
             "#276419"
            ]
           ],
           "sequential": [
            [
             0,
             "#0d0887"
            ],
            [
             0.1111111111111111,
             "#46039f"
            ],
            [
             0.2222222222222222,
             "#7201a8"
            ],
            [
             0.3333333333333333,
             "#9c179e"
            ],
            [
             0.4444444444444444,
             "#bd3786"
            ],
            [
             0.5555555555555556,
             "#d8576b"
            ],
            [
             0.6666666666666666,
             "#ed7953"
            ],
            [
             0.7777777777777778,
             "#fb9f3a"
            ],
            [
             0.8888888888888888,
             "#fdca26"
            ],
            [
             1,
             "#f0f921"
            ]
           ],
           "sequentialminus": [
            [
             0,
             "#0d0887"
            ],
            [
             0.1111111111111111,
             "#46039f"
            ],
            [
             0.2222222222222222,
             "#7201a8"
            ],
            [
             0.3333333333333333,
             "#9c179e"
            ],
            [
             0.4444444444444444,
             "#bd3786"
            ],
            [
             0.5555555555555556,
             "#d8576b"
            ],
            [
             0.6666666666666666,
             "#ed7953"
            ],
            [
             0.7777777777777778,
             "#fb9f3a"
            ],
            [
             0.8888888888888888,
             "#fdca26"
            ],
            [
             1,
             "#f0f921"
            ]
           ]
          },
          "colorway": [
           "#636efa",
           "#EF553B",
           "#00cc96",
           "#ab63fa",
           "#FFA15A",
           "#19d3f3",
           "#FF6692",
           "#B6E880",
           "#FF97FF",
           "#FECB52"
          ],
          "font": {
           "color": "#2a3f5f"
          },
          "geo": {
           "bgcolor": "white",
           "lakecolor": "white",
           "landcolor": "#E5ECF6",
           "showlakes": true,
           "showland": true,
           "subunitcolor": "white"
          },
          "hoverlabel": {
           "align": "left"
          },
          "hovermode": "closest",
          "mapbox": {
           "style": "light"
          },
          "paper_bgcolor": "white",
          "plot_bgcolor": "#E5ECF6",
          "polar": {
           "angularaxis": {
            "gridcolor": "white",
            "linecolor": "white",
            "ticks": ""
           },
           "bgcolor": "#E5ECF6",
           "radialaxis": {
            "gridcolor": "white",
            "linecolor": "white",
            "ticks": ""
           }
          },
          "scene": {
           "xaxis": {
            "backgroundcolor": "#E5ECF6",
            "gridcolor": "white",
            "gridwidth": 2,
            "linecolor": "white",
            "showbackground": true,
            "ticks": "",
            "zerolinecolor": "white"
           },
           "yaxis": {
            "backgroundcolor": "#E5ECF6",
            "gridcolor": "white",
            "gridwidth": 2,
            "linecolor": "white",
            "showbackground": true,
            "ticks": "",
            "zerolinecolor": "white"
           },
           "zaxis": {
            "backgroundcolor": "#E5ECF6",
            "gridcolor": "white",
            "gridwidth": 2,
            "linecolor": "white",
            "showbackground": true,
            "ticks": "",
            "zerolinecolor": "white"
           }
          },
          "shapedefaults": {
           "line": {
            "color": "#2a3f5f"
           }
          },
          "ternary": {
           "aaxis": {
            "gridcolor": "white",
            "linecolor": "white",
            "ticks": ""
           },
           "baxis": {
            "gridcolor": "white",
            "linecolor": "white",
            "ticks": ""
           },
           "bgcolor": "#E5ECF6",
           "caxis": {
            "gridcolor": "white",
            "linecolor": "white",
            "ticks": ""
           }
          },
          "title": {
           "x": 0.05
          },
          "xaxis": {
           "automargin": true,
           "gridcolor": "white",
           "linecolor": "white",
           "ticks": "",
           "title": {
            "standoff": 15
           },
           "zerolinecolor": "white",
           "zerolinewidth": 2
          },
          "yaxis": {
           "automargin": true,
           "gridcolor": "white",
           "linecolor": "white",
           "ticks": "",
           "title": {
            "standoff": 15
           },
           "zerolinecolor": "white",
           "zerolinewidth": 2
          }
         }
        },
        "title": {
         "text": "Exponential Smoothing Forecast"
        },
        "xaxis": {
         "title": {
          "text": "Time"
         }
        },
        "yaxis": {
         "title": {
          "text": "Value"
         }
        }
       }
      }
     },
     "metadata": {},
     "output_type": "display_data"
    }
   ],
   "source": [
    "import plotly.graph_objects as go\n",
    "\n",
    "# Assuming you have the following data:\n",
    "# y_train = Pandas Series of training data\n",
    "# y_test = Pandas Series of testing data\n",
    "# forecast = [list of forecasted values]\n",
    "\n",
    "# Join y_train and y_test\n",
    "y_combined = y_train.append(y_test)\n",
    "\n",
    "# Get the last 9 points of the combined data\n",
    "last_9_points = y_combined.tail(8)\n",
    "\n",
    "# Create the trace for last 9 points of combined data\n",
    "trace_combined = go.Scatter(\n",
    "    x=last_9_points.index,\n",
    "    y=last_9_points.values,\n",
    "    mode='lines',\n",
    "    name='Combined Data',\n",
    "    line=dict(color='blue')\n",
    ")\n",
    "\n",
    "# Create the trace for forecast\n",
    "trace_forecast = go.Scatter(\n",
    "    x=last_9_points.index,\n",
    "    y=all_forecasts,\n",
    "    mode='lines',\n",
    "    name='Forecast',\n",
    "    line=dict(color='red')\n",
    ")\n",
    "\n",
    "# Create the layout\n",
    "layout = go.Layout(\n",
    "    title='Exponential Smoothing Forecast',\n",
    "    xaxis=dict(title='Time'),\n",
    "    yaxis=dict(title='Value')\n",
    ")\n",
    "\n",
    "# Create the figure and add traces\n",
    "fig = go.Figure(data=[trace_combined, trace_forecast], layout=layout)\n",
    "\n",
    "# Show the figure\n",
    "fig.show()"
   ]
  },
  {
   "cell_type": "code",
   "execution_count": 493,
   "metadata": {},
   "outputs": [
    {
     "data": {
      "text/plain": [
       "37      480.0\n",
       "44     2610.0\n",
       "51     2580.0\n",
       "55     1980.0\n",
       "69     2340.0\n",
       "73     2820.0\n",
       "83     3780.0\n",
       "87     3960.0\n",
       "99     3300.0\n",
       "102    3360.0\n",
       "115    3360.0\n",
       "125    1980.0\n",
       "133    3540.0\n",
       "138    3540.0\n",
       "150    4920.0\n",
       "156    5340.0\n",
       "170    2520.0\n",
       "173    4140.0\n",
       "183    3060.0\n",
       "200    2820.0\n",
       "208    3420.0\n",
       "224    4140.0\n",
       "235    3960.0\n",
       "244    3420.0\n",
       "258    4380.0\n",
       "264    2460.0\n",
       "285    3220.0\n",
       "291    4200.0\n",
       "301    3900.0\n",
       "316    4440.0\n",
       "327    4860.0\n",
       "350    2580.0\n",
       "354    2460.0\n",
       "372    5100.0\n",
       "382    3120.0\n",
       "395    3240.0\n",
       "409    3420.0\n",
       "430    4020.0\n",
       "440    3000.0\n",
       "458    3180.0\n",
       "465    4260.0\n",
       "491    2670.0\n",
       "506    1200.0\n",
       "510       0.0\n",
       "530       0.0\n",
       "543    1020.0\n",
       "553    2340.0\n",
       "566    3360.0\n",
       "582    2520.0\n",
       "598    3540.0\n",
       "618    3300.0\n",
       "625    2520.0\n",
       "Name: Units, dtype: float64"
      ]
     },
     "execution_count": 493,
     "metadata": {},
     "output_type": "execute_result"
    }
   ],
   "source": [
    "y_train"
   ]
  }
 ],
 "metadata": {
  "kernelspec": {
   "display_name": "base",
   "language": "python",
   "name": "python3"
  },
  "language_info": {
   "codemirror_mode": {
    "name": "ipython",
    "version": 3
   },
   "file_extension": ".py",
   "mimetype": "text/x-python",
   "name": "python",
   "nbconvert_exporter": "python",
   "pygments_lexer": "ipython3",
   "version": "3.9.13"
  },
  "orig_nbformat": 4
 },
 "nbformat": 4,
 "nbformat_minor": 2
}
