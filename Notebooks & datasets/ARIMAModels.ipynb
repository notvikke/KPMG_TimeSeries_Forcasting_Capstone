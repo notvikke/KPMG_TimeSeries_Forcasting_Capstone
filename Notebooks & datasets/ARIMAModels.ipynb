{
 "cells": [
  {
   "cell_type": "code",
   "execution_count": 23,
   "metadata": {},
   "outputs": [],
   "source": [
    "import pandas as pd\n",
    "from pmdarima import auto_arima\n",
    "def mean_absolute_percentage_error(y_true, y_pred):\n",
    "    return (abs(y_true - y_pred) / y_true).mean() * 100\n",
    "\n",
    "df = pd.read_csv(\"monthly_data.csv\")\n",
    "\n",
    "# Assuming your dataframe is named 'df'\n",
    "mapping = {\n",
    "    120004096: \"Product1\",\n",
    "    120009814: \"Product2\",\n",
    "    120009816: \"Product3\",\n",
    "    120010342: \"Product4\",\n",
    "    120010566: \"Product5\",\n",
    "    120010970: \"Product6\",\n",
    "    120011556: \"Product7\",\n",
    "    120011782: \"Product8\",\n",
    "    120012154: \"Product9\",\n",
    "    120012606: \"Product10\",\n",
    "    120014486: \"Product11\",\n",
    "    120014488: \"Product12\",\n",
    "    120015842: \"Product13\",\n",
    "    120015996: \"Product14\"\n",
    "}\n",
    "\n",
    "df['ID_material'] = df['ID_material'].map(mapping)"
   ]
  },
  {
   "cell_type": "code",
   "execution_count": 35,
   "metadata": {},
   "outputs": [
    {
     "name": "stdout",
     "output_type": "stream",
     "text": [
      "Product1 634    480.0\n",
      "657    600.0\n",
      "Name: Units, dtype: float64\n"
     ]
    },
    {
     "name": "stderr",
     "output_type": "stream",
     "text": [
      "c:\\Users\\Usuario\\anaconda3\\lib\\site-packages\\statsmodels\\tsa\\base\\tsa_model.py:834: ValueWarning: No supported index is available. Prediction results will be given with an integer index beginning at `start`.\n",
      "  return get_prediction_index(\n",
      "C:\\Users\\Usuario\\AppData\\Local\\Temp\\ipykernel_12592\\2204754883.py:31: FutureWarning: The frame.append method is deprecated and will be removed from pandas in a future version. Use pandas.concat instead.\n",
      "  arima_results = arima_results.append({'ID_material': name, 'ARIMA_params': model.order, 'MAPE': mape}, ignore_index=True)\n"
     ]
    },
    {
     "name": "stdout",
     "output_type": "stream",
     "text": [
      "Product10 641    5600.0\n",
      "654    4655.0\n",
      "Name: Units, dtype: float64\n"
     ]
    },
    {
     "name": "stderr",
     "output_type": "stream",
     "text": [
      "c:\\Users\\Usuario\\anaconda3\\lib\\site-packages\\statsmodels\\tsa\\base\\tsa_model.py:834: ValueWarning: No supported index is available. Prediction results will be given with an integer index beginning at `start`.\n",
      "  return get_prediction_index(\n",
      "C:\\Users\\Usuario\\AppData\\Local\\Temp\\ipykernel_12592\\2204754883.py:31: FutureWarning: The frame.append method is deprecated and will be removed from pandas in a future version. Use pandas.concat instead.\n",
      "  arima_results = arima_results.append({'ID_material': name, 'ARIMA_params': model.order, 'MAPE': mape}, ignore_index=True)\n"
     ]
    },
    {
     "name": "stdout",
     "output_type": "stream",
     "text": [
      "Product11 637    6048.0\n",
      "656    7560.0\n",
      "Name: Units, dtype: float64\n"
     ]
    },
    {
     "name": "stderr",
     "output_type": "stream",
     "text": [
      "c:\\Users\\Usuario\\anaconda3\\lib\\site-packages\\statsmodels\\tsa\\base\\tsa_model.py:834: ValueWarning: No supported index is available. Prediction results will be given with an integer index beginning at `start`.\n",
      "  return get_prediction_index(\n",
      "C:\\Users\\Usuario\\AppData\\Local\\Temp\\ipykernel_12592\\2204754883.py:31: FutureWarning: The frame.append method is deprecated and will be removed from pandas in a future version. Use pandas.concat instead.\n",
      "  arima_results = arima_results.append({'ID_material': name, 'ARIMA_params': model.order, 'MAPE': mape}, ignore_index=True)\n"
     ]
    },
    {
     "name": "stdout",
     "output_type": "stream",
     "text": [
      "Product12 636    11124.0\n",
      "655     9288.0\n",
      "Name: Units, dtype: float64\n"
     ]
    },
    {
     "name": "stderr",
     "output_type": "stream",
     "text": [
      "c:\\Users\\Usuario\\anaconda3\\lib\\site-packages\\statsmodels\\tsa\\base\\tsa_model.py:834: ValueWarning: No supported index is available. Prediction results will be given with an integer index beginning at `start`.\n",
      "  return get_prediction_index(\n",
      "C:\\Users\\Usuario\\AppData\\Local\\Temp\\ipykernel_12592\\2204754883.py:31: FutureWarning: The frame.append method is deprecated and will be removed from pandas in a future version. Use pandas.concat instead.\n",
      "  arima_results = arima_results.append({'ID_material': name, 'ARIMA_params': model.order, 'MAPE': mape}, ignore_index=True)\n"
     ]
    },
    {
     "name": "stdout",
     "output_type": "stream",
     "text": [
      "Product13 639     800.0\n",
      "660    1280.0\n",
      "Name: Units, dtype: float64\n"
     ]
    },
    {
     "name": "stderr",
     "output_type": "stream",
     "text": [
      "c:\\Users\\Usuario\\anaconda3\\lib\\site-packages\\statsmodels\\tsa\\base\\tsa_model.py:834: ValueWarning: No supported index is available. Prediction results will be given with an integer index beginning at `start`.\n",
      "  return get_prediction_index(\n",
      "C:\\Users\\Usuario\\AppData\\Local\\Temp\\ipykernel_12592\\2204754883.py:31: FutureWarning: The frame.append method is deprecated and will be removed from pandas in a future version. Use pandas.concat instead.\n",
      "  arima_results = arima_results.append({'ID_material': name, 'ARIMA_params': model.order, 'MAPE': mape}, ignore_index=True)\n"
     ]
    },
    {
     "name": "stdout",
     "output_type": "stream",
     "text": [
      "Product14 643    4216.0\n",
      "649    4248.0\n",
      "Name: Units, dtype: float64\n"
     ]
    },
    {
     "name": "stderr",
     "output_type": "stream",
     "text": [
      "c:\\Users\\Usuario\\anaconda3\\lib\\site-packages\\statsmodels\\tsa\\base\\tsa_model.py:834: ValueWarning: No supported index is available. Prediction results will be given with an integer index beginning at `start`.\n",
      "  return get_prediction_index(\n",
      "C:\\Users\\Usuario\\AppData\\Local\\Temp\\ipykernel_12592\\2204754883.py:31: FutureWarning: The frame.append method is deprecated and will be removed from pandas in a future version. Use pandas.concat instead.\n",
      "  arima_results = arima_results.append({'ID_material': name, 'ARIMA_params': model.order, 'MAPE': mape}, ignore_index=True)\n"
     ]
    },
    {
     "name": "stdout",
     "output_type": "stream",
     "text": [
      "Product2 638    2652.0\n",
      "650     624.0\n",
      "Name: Units, dtype: float64\n"
     ]
    },
    {
     "name": "stderr",
     "output_type": "stream",
     "text": [
      "c:\\Users\\Usuario\\anaconda3\\lib\\site-packages\\statsmodels\\tsa\\base\\tsa_model.py:834: ValueWarning: No supported index is available. Prediction results will be given with an integer index beginning at `start`.\n",
      "  return get_prediction_index(\n",
      "C:\\Users\\Usuario\\AppData\\Local\\Temp\\ipykernel_12592\\2204754883.py:31: FutureWarning: The frame.append method is deprecated and will be removed from pandas in a future version. Use pandas.concat instead.\n",
      "  arima_results = arima_results.append({'ID_material': name, 'ARIMA_params': model.order, 'MAPE': mape}, ignore_index=True)\n"
     ]
    },
    {
     "name": "stdout",
     "output_type": "stream",
     "text": [
      "Product3 635    2592.0\n",
      "659    2880.0\n",
      "Name: Units, dtype: float64\n"
     ]
    },
    {
     "name": "stderr",
     "output_type": "stream",
     "text": [
      "c:\\Users\\Usuario\\anaconda3\\lib\\site-packages\\statsmodels\\tsa\\base\\tsa_model.py:834: ValueWarning: No supported index is available. Prediction results will be given with an integer index beginning at `start`.\n",
      "  return get_prediction_index(\n",
      "C:\\Users\\Usuario\\AppData\\Local\\Temp\\ipykernel_12592\\2204754883.py:31: FutureWarning: The frame.append method is deprecated and will be removed from pandas in a future version. Use pandas.concat instead.\n",
      "  arima_results = arima_results.append({'ID_material': name, 'ARIMA_params': model.order, 'MAPE': mape}, ignore_index=True)\n"
     ]
    },
    {
     "name": "stdout",
     "output_type": "stream",
     "text": [
      "Product4 640    3300.0\n",
      "648    3300.0\n",
      "Name: Units, dtype: float64\n"
     ]
    },
    {
     "name": "stderr",
     "output_type": "stream",
     "text": [
      "c:\\Users\\Usuario\\anaconda3\\lib\\site-packages\\statsmodels\\tsa\\base\\tsa_model.py:834: ValueWarning: No supported index is available. Prediction results will be given with an integer index beginning at `start`.\n",
      "  return get_prediction_index(\n",
      "C:\\Users\\Usuario\\AppData\\Local\\Temp\\ipykernel_12592\\2204754883.py:31: FutureWarning: The frame.append method is deprecated and will be removed from pandas in a future version. Use pandas.concat instead.\n",
      "  arima_results = arima_results.append({'ID_material': name, 'ARIMA_params': model.order, 'MAPE': mape}, ignore_index=True)\n"
     ]
    },
    {
     "name": "stdout",
     "output_type": "stream",
     "text": [
      "Product5 644    9324.0\n",
      "651       0.0\n",
      "Name: Units, dtype: float64\n"
     ]
    },
    {
     "name": "stderr",
     "output_type": "stream",
     "text": [
      "c:\\Users\\Usuario\\anaconda3\\lib\\site-packages\\statsmodels\\tsa\\base\\tsa_model.py:834: ValueWarning: No supported index is available. Prediction results will be given with an integer index beginning at `start`.\n",
      "  return get_prediction_index(\n",
      "C:\\Users\\Usuario\\AppData\\Local\\Temp\\ipykernel_12592\\2204754883.py:31: FutureWarning: The frame.append method is deprecated and will be removed from pandas in a future version. Use pandas.concat instead.\n",
      "  arima_results = arima_results.append({'ID_material': name, 'ARIMA_params': model.order, 'MAPE': mape}, ignore_index=True)\n"
     ]
    },
    {
     "name": "stdout",
     "output_type": "stream",
     "text": [
      "Product6 645    6510.0\n",
      "658    4290.0\n",
      "Name: Units, dtype: float64\n"
     ]
    },
    {
     "name": "stderr",
     "output_type": "stream",
     "text": [
      "c:\\Users\\Usuario\\anaconda3\\lib\\site-packages\\statsmodels\\tsa\\base\\tsa_model.py:834: ValueWarning: No supported index is available. Prediction results will be given with an integer index beginning at `start`.\n",
      "  return get_prediction_index(\n",
      "C:\\Users\\Usuario\\AppData\\Local\\Temp\\ipykernel_12592\\2204754883.py:31: FutureWarning: The frame.append method is deprecated and will be removed from pandas in a future version. Use pandas.concat instead.\n",
      "  arima_results = arima_results.append({'ID_material': name, 'ARIMA_params': model.order, 'MAPE': mape}, ignore_index=True)\n"
     ]
    },
    {
     "name": "stdout",
     "output_type": "stream",
     "text": [
      "Product7 642    1530.0\n",
      "653     414.0\n",
      "Name: Units, dtype: float64\n"
     ]
    },
    {
     "name": "stderr",
     "output_type": "stream",
     "text": [
      "c:\\Users\\Usuario\\anaconda3\\lib\\site-packages\\statsmodels\\tsa\\base\\tsa_model.py:834: ValueWarning: No supported index is available. Prediction results will be given with an integer index beginning at `start`.\n",
      "  return get_prediction_index(\n",
      "C:\\Users\\Usuario\\AppData\\Local\\Temp\\ipykernel_12592\\2204754883.py:31: FutureWarning: The frame.append method is deprecated and will be removed from pandas in a future version. Use pandas.concat instead.\n",
      "  arima_results = arima_results.append({'ID_material': name, 'ARIMA_params': model.order, 'MAPE': mape}, ignore_index=True)\n"
     ]
    },
    {
     "name": "stdout",
     "output_type": "stream",
     "text": [
      "Product8 646    17472.0\n",
      "647    13524.0\n",
      "Name: Units, dtype: float64\n"
     ]
    },
    {
     "name": "stderr",
     "output_type": "stream",
     "text": [
      "c:\\Users\\Usuario\\anaconda3\\lib\\site-packages\\statsmodels\\tsa\\base\\tsa_model.py:834: ValueWarning: No supported index is available. Prediction results will be given with an integer index beginning at `start`.\n",
      "  return get_prediction_index(\n",
      "C:\\Users\\Usuario\\AppData\\Local\\Temp\\ipykernel_12592\\2204754883.py:31: FutureWarning: The frame.append method is deprecated and will be removed from pandas in a future version. Use pandas.concat instead.\n",
      "  arima_results = arima_results.append({'ID_material': name, 'ARIMA_params': model.order, 'MAPE': mape}, ignore_index=True)\n"
     ]
    },
    {
     "name": "stdout",
     "output_type": "stream",
     "text": [
      "Product9 633    1633.0\n",
      "652     379.0\n",
      "Name: Units, dtype: float64\n"
     ]
    },
    {
     "name": "stderr",
     "output_type": "stream",
     "text": [
      "c:\\Users\\Usuario\\anaconda3\\lib\\site-packages\\statsmodels\\tsa\\base\\tsa_model.py:834: ValueWarning: No supported index is available. Prediction results will be given with an integer index beginning at `start`.\n",
      "  return get_prediction_index(\n",
      "C:\\Users\\Usuario\\AppData\\Local\\Temp\\ipykernel_12592\\2204754883.py:31: FutureWarning: The frame.append method is deprecated and will be removed from pandas in a future version. Use pandas.concat instead.\n",
      "  arima_results = arima_results.append({'ID_material': name, 'ARIMA_params': model.order, 'MAPE': mape}, ignore_index=True)\n"
     ]
    }
   ],
   "source": [
    "# Assuming your dataframe is already loaded as 'df'\n",
    "# Sort the dataframe by ID_material and timestamp\n",
    "# Group the dataframe by ID_material\n",
    "grouped = df.groupby('ID_material')\n",
    "\n",
    "# Create an empty DataFrame to store the ARIMA model results\n",
    "arima_results = pd.DataFrame(columns=['ID_material', 'ARIMA_params'])\n",
    "\n",
    "# Iterate over each group\n",
    "for name, group in grouped:\n",
    "    # Take the last two rows for testing\n",
    "    test_data = group.tail(2)\n",
    "    print(name,test_data['Units'])\n",
    "    \n",
    "    # Remove the test data from the group\n",
    "    train_data = group.iloc[:-2]\n",
    "    \n",
    "    # Use auto_arima to find the best ARIMA model\n",
    "    model = auto_arima(train_data['Units'], trace=False, suppress_warnings=True)\n",
    "    \n",
    "    # Fit the best model on the train data\n",
    "    model.fit(train_data['Units'])\n",
    "    \n",
    "    # Make predictions on the test data\n",
    "    predictions = model.predict(n_periods=len(test_data))\n",
    "    \n",
    "    # Calculate MAPE\n",
    "    mape = mean_absolute_percentage_error((test_data['Units'].sum()),predictions.sum())\n",
    "    \n",
    "    # Store the ARIMA model parameters, ID_material, and MAPE in the results DataFrame\n",
    "    arima_results = arima_results.append({'ID_material': name, 'ARIMA_params': model.order, 'MAPE': mape}, ignore_index=True)\n"
   ]
  },
  {
   "cell_type": "code",
   "execution_count": 33,
   "metadata": {},
   "outputs": [
    {
     "data": {
      "text/html": [
       "<div>\n",
       "<style scoped>\n",
       "    .dataframe tbody tr th:only-of-type {\n",
       "        vertical-align: middle;\n",
       "    }\n",
       "\n",
       "    .dataframe tbody tr th {\n",
       "        vertical-align: top;\n",
       "    }\n",
       "\n",
       "    .dataframe thead th {\n",
       "        text-align: right;\n",
       "    }\n",
       "</style>\n",
       "<table border=\"1\" class=\"dataframe\">\n",
       "  <thead>\n",
       "    <tr style=\"text-align: right;\">\n",
       "      <th></th>\n",
       "      <th>ID_material</th>\n",
       "      <th>ARIMA_params</th>\n",
       "      <th>MAPE</th>\n",
       "    </tr>\n",
       "  </thead>\n",
       "  <tbody>\n",
       "    <tr>\n",
       "      <th>0</th>\n",
       "      <td>Product1</td>\n",
       "      <td>(2, 1, 1)</td>\n",
       "      <td>8.696042</td>\n",
       "    </tr>\n",
       "    <tr>\n",
       "      <th>1</th>\n",
       "      <td>Product10</td>\n",
       "      <td>(0, 0, 0)</td>\n",
       "      <td>17.542662</td>\n",
       "    </tr>\n",
       "    <tr>\n",
       "      <th>2</th>\n",
       "      <td>Product11</td>\n",
       "      <td>(0, 0, 0)</td>\n",
       "      <td>20.154473</td>\n",
       "    </tr>\n",
       "    <tr>\n",
       "      <th>3</th>\n",
       "      <td>Product12</td>\n",
       "      <td>(1, 0, 0)</td>\n",
       "      <td>0.154648</td>\n",
       "    </tr>\n",
       "    <tr>\n",
       "      <th>4</th>\n",
       "      <td>Product13</td>\n",
       "      <td>(0, 0, 1)</td>\n",
       "      <td>35.929003</td>\n",
       "    </tr>\n",
       "    <tr>\n",
       "      <th>5</th>\n",
       "      <td>Product14</td>\n",
       "      <td>(0, 0, 0)</td>\n",
       "      <td>66.168697</td>\n",
       "    </tr>\n",
       "    <tr>\n",
       "      <th>6</th>\n",
       "      <td>Product2</td>\n",
       "      <td>(0, 1, 1)</td>\n",
       "      <td>23.772617</td>\n",
       "    </tr>\n",
       "    <tr>\n",
       "      <th>7</th>\n",
       "      <td>Product3</td>\n",
       "      <td>(0, 0, 1)</td>\n",
       "      <td>0.782145</td>\n",
       "    </tr>\n",
       "    <tr>\n",
       "      <th>8</th>\n",
       "      <td>Product4</td>\n",
       "      <td>(1, 0, 0)</td>\n",
       "      <td>12.117595</td>\n",
       "    </tr>\n",
       "    <tr>\n",
       "      <th>9</th>\n",
       "      <td>Product5</td>\n",
       "      <td>(0, 0, 0)</td>\n",
       "      <td>192.114709</td>\n",
       "    </tr>\n",
       "    <tr>\n",
       "      <th>10</th>\n",
       "      <td>Product6</td>\n",
       "      <td>(0, 0, 1)</td>\n",
       "      <td>5.413894</td>\n",
       "    </tr>\n",
       "    <tr>\n",
       "      <th>11</th>\n",
       "      <td>Product7</td>\n",
       "      <td>(1, 0, 0)</td>\n",
       "      <td>18.542778</td>\n",
       "    </tr>\n",
       "    <tr>\n",
       "      <th>12</th>\n",
       "      <td>Product8</td>\n",
       "      <td>(0, 1, 1)</td>\n",
       "      <td>10.851702</td>\n",
       "    </tr>\n",
       "    <tr>\n",
       "      <th>13</th>\n",
       "      <td>Product9</td>\n",
       "      <td>(0, 0, 0)</td>\n",
       "      <td>292.677270</td>\n",
       "    </tr>\n",
       "  </tbody>\n",
       "</table>\n",
       "</div>"
      ],
      "text/plain": [
       "   ID_material ARIMA_params        MAPE\n",
       "0     Product1    (2, 1, 1)    8.696042\n",
       "1    Product10    (0, 0, 0)   17.542662\n",
       "2    Product11    (0, 0, 0)   20.154473\n",
       "3    Product12    (1, 0, 0)    0.154648\n",
       "4    Product13    (0, 0, 1)   35.929003\n",
       "5    Product14    (0, 0, 0)   66.168697\n",
       "6     Product2    (0, 1, 1)   23.772617\n",
       "7     Product3    (0, 0, 1)    0.782145\n",
       "8     Product4    (1, 0, 0)   12.117595\n",
       "9     Product5    (0, 0, 0)  192.114709\n",
       "10    Product6    (0, 0, 1)    5.413894\n",
       "11    Product7    (1, 0, 0)   18.542778\n",
       "12    Product8    (0, 1, 1)   10.851702\n",
       "13    Product9    (0, 0, 0)  292.677270"
      ]
     },
     "execution_count": 33,
     "metadata": {},
     "output_type": "execute_result"
    }
   ],
   "source": [
    "arima_results"
   ]
  },
  {
   "cell_type": "code",
   "execution_count": null,
   "metadata": {},
   "outputs": [],
   "source": []
  }
 ],
 "metadata": {
  "kernelspec": {
   "display_name": "base",
   "language": "python",
   "name": "python3"
  },
  "language_info": {
   "codemirror_mode": {
    "name": "ipython",
    "version": 3
   },
   "file_extension": ".py",
   "mimetype": "text/x-python",
   "name": "python",
   "nbconvert_exporter": "python",
   "pygments_lexer": "ipython3",
   "version": "3.9.13"
  },
  "orig_nbformat": 4
 },
 "nbformat": 4,
 "nbformat_minor": 2
}
